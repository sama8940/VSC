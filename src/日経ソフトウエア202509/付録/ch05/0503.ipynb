{
 "cells": [
  {
   "cell_type": "code",
   "execution_count": 3,
   "metadata": {},
   "outputs": [
    {
     "name": "stdout",
     "output_type": "stream",
     "text": [
      "[{'id': 1, 'name': 'John', 'age': 22}, {'id': 2, 'name': 'Lina', 'age': 33}, {'id': 3, 'name': 'Mike', 'age': 44}, {'id': 4, 'name': 'Sara', 'age': 55}, {'id': 5, 'name': 'Alex', 'age': 66}]\n"
     ]
    }
   ],
   "source": [
    "import json\n",
    "\n",
    "# ファイルパス\n",
    "file_path = \"sample.json\"\n",
    "\n",
    "# ファイルを読み込む\n",
    "with open(file_path, \"r\") as file:\n",
    "    data = json.load(file)\n",
    "\n",
    "# 読み込んだデータを表示する\n",
    "print(data)"
   ]
  },
  {
   "cell_type": "code",
   "execution_count": 4,
   "metadata": {},
   "outputs": [
    {
     "name": "stdout",
     "output_type": "stream",
     "text": [
      "{'id': 1, 'name': 'John', 'age': 22}\n",
      "{'id': 2, 'name': 'Lina', 'age': 33}\n",
      "{'id': 3, 'name': 'Mike', 'age': 44}\n",
      "{'id': 4, 'name': 'Sara', 'age': 55}\n",
      "{'id': 5, 'name': 'Alex', 'age': 66}\n"
     ]
    }
   ],
   "source": [
    "import json\n",
    "\n",
    "# ファイルパス\n",
    "file_path = \"sample.json\"\n",
    "\n",
    "# ファイルを読み込む\n",
    "with open(file_path, \"r\") as file:\n",
    "    data = json.load(file)\n",
    "\n",
    "# 読み込んだデータを表示する\n",
    "# print(data)\n",
    "\n",
    "# データを1行ずつ取得\n",
    "for line in data:\n",
    "    print(line)"
   ]
  },
  {
   "cell_type": "code",
   "execution_count": 5,
   "metadata": {},
   "outputs": [
    {
     "name": "stdout",
     "output_type": "stream",
     "text": [
      "id: 1\n",
      "name: John\n",
      "age: 22\n",
      "id: 2\n",
      "name: Lina\n",
      "age: 33\n",
      "id: 3\n",
      "name: Mike\n",
      "age: 44\n",
      "id: 4\n",
      "name: Sara\n",
      "age: 55\n",
      "id: 5\n",
      "name: Alex\n",
      "age: 66\n"
     ]
    }
   ],
   "source": [
    "import json\n",
    "\n",
    "# ファイルパス\n",
    "file_path = \"sample.json\"\n",
    "\n",
    "# ファイルを読み込む\n",
    "with open(file_path, \"r\") as file:\n",
    "    data = json.load(file)\n",
    "\n",
    "# データを1行ずつ取得\n",
    "for line in data:\n",
    "    print(\"id: \" + str(line[\"id\"]))\n",
    "    print(\"name: \" + line[\"name\"])\n",
    "    print(\"age: \" + str(line[\"age\"]))\n"
   ]
  },
  {
   "cell_type": "code",
   "execution_count": 6,
   "metadata": {},
   "outputs": [
    {
     "name": "stdout",
     "output_type": "stream",
     "text": [
      "id: 1\n",
      "name: John\n",
      "details: \n",
      "  age: 22\n",
      "  address: \n",
      "    city: New York\n",
      "    zipcode: 10001\n",
      "  contacts: \n",
      "    email: john@example.com\n",
      "    phone: 123-456-7890\n"
     ]
    }
   ],
   "source": [
    "def print_nested_json(data, indent=0):\n",
    "    for key, value in data.items():\n",
    "        print(' ' * indent + str(key) + \": \", end=\"\")\n",
    "        if isinstance(value, dict):\n",
    "            print()\n",
    "            print_nested_json(value, indent + 2)\n",
    "        else:\n",
    "            print(str(value))\n",
    "\n",
    "# 入れ子になったJSONデータの例\n",
    "nested_data = {\n",
    "    \"id\": 1,\n",
    "    \"name\": \"John\",\n",
    "    \"details\": {\n",
    "        \"age\": 22,\n",
    "        \"address\": {\n",
    "            \"city\": \"New York\",\n",
    "            \"zipcode\": \"10001\"\n",
    "        },\n",
    "        \"contacts\": {\n",
    "            \"email\": \"john@example.com\",\n",
    "            \"phone\": \"123-456-7890\"\n",
    "        }\n",
    "    }\n",
    "}\n",
    "\n",
    "# 入れ子になったJSONデータを表示\n",
    "print_nested_json(nested_data)"
   ]
  },
  {
   "cell_type": "code",
   "execution_count": 7,
   "metadata": {},
   "outputs": [
    {
     "name": "stdout",
     "output_type": "stream",
     "text": [
      "id: 1\n",
      "name: John\n",
      "details: \n",
      "  age: 22\n",
      "  address: \n",
      "    city: New York\n",
      "    zipcode: 10001\n",
      "  contacts: \n",
      "    email: john@example.com\n",
      "    phone: 123-456-7890\n"
     ]
    }
   ],
   "source": [
    "def print_nested_json(data, indent=0):\n",
    "    for key, value in data.items():\n",
    "        print(' ' * indent + str(key) + \": \", end=\"\")\n",
    "        if isinstance(value, dict):\n",
    "            print()\n",
    "            print_nested_json(value, indent + 2)\n",
    "        else:\n",
    "            print(str(value))\n",
    "\n",
    "# ファイルから読み込む\n",
    "file_path = \"nested_data.json\"\n",
    "with open(file_path, \"r\") as file:\n",
    "    nested_data = json.load(file)\n",
    "\n",
    "# 入れ子になったJSONデータを表示\n",
    "print_nested_json(nested_data)"
   ]
  },
  {
   "cell_type": "code",
   "execution_count": 8,
   "metadata": {},
   "outputs": [
    {
     "name": "stdout",
     "output_type": "stream",
     "text": [
      "id: 1\n",
      "name: John\n",
      "details: \n",
      "  age: 22\n",
      "  address: \n",
      "    city: New York\n",
      "    zipcode: 10001\n",
      "  contacts: \n",
      "    email: john@example.com\n",
      "    phone: 123-456-7890\n"
     ]
    }
   ],
   "source": [
    "def print_nested_json(data, indent=0):\n",
    "    for key, value in data.items():\n",
    "        print(' ' * indent + str(key) + \": \", end=\"\")\n",
    "        if isinstance(value, dict):\n",
    "            print()\n",
    "            print_nested_json(value, indent + 2)\n",
    "        else:\n",
    "            print(str(value))\n",
    "\n",
    "# ファイルから読み込む\n",
    "file_path = \"nested_data.json\"\n",
    "with open(file_path, \"r\") as file:\n",
    "    nested_data = json.load(file)\n",
    "\n",
    "# 入れ子になったJSONデータを表示\n",
    "print_nested_json(nested_data)\n",
    "\n"
   ]
  },
  {
   "cell_type": "code",
   "execution_count": 11,
   "metadata": {},
   "outputs": [
    {
     "name": "stdout",
     "output_type": "stream",
     "text": [
      "Email: john@example.com\n"
     ]
    }
   ],
   "source": [
    "# emailの値を取り出す\n",
    "email = nested_data[\"details\"][\"contacts\"][\"email\"]\n",
    "print(\"Email:\", email)"
   ]
  }
 ],
 "metadata": {
  "kernelspec": {
   "display_name": ".venv",
   "language": "python",
   "name": "python3"
  },
  "language_info": {
   "codemirror_mode": {
    "name": "ipython",
    "version": 3
   },
   "file_extension": ".py",
   "mimetype": "text/x-python",
   "name": "python",
   "nbconvert_exporter": "python",
   "pygments_lexer": "ipython3",
   "version": "3.9.7"
  }
 },
 "nbformat": 4,
 "nbformat_minor": 2
}
