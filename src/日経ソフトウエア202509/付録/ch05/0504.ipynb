{
 "cells": [
  {
   "cell_type": "code",
   "execution_count": 1,
   "metadata": {},
   "outputs": [
    {
     "name": "stdout",
     "output_type": "stream",
     "text": [
      "Text has been written to the file.\n"
     ]
    }
   ],
   "source": [
    "# Specify the file path\n",
    "file_path = \"output.txt\"\n",
    "\n",
    "# Open the file in write mode\n",
    "with open(file_path, \"w\") as file:\n",
    "    # Write text to the file\n",
    "    file.write(\"Hello, world!\")\n",
    "\n",
    "# Confirm that the text has been written to the file\n",
    "print(\"Text has been written to the file.\")\n"
   ]
  },
  {
   "cell_type": "code",
   "execution_count": 4,
   "metadata": {},
   "outputs": [
    {
     "name": "stdout",
     "output_type": "stream",
     "text": [
      "配列がファイルに書き出されました。\n"
     ]
    }
   ],
   "source": [
    "# 配列の定義\n",
    "array = [\"apple\", \"banana\", \"cherry\"]\n",
    "\n",
    "# ファイルに配列を書き出す\n",
    "with open(file_path, \"w\") as file:\n",
    "    for item in array:\n",
    "        file.write(item + \"\\n\")\n",
    "\n",
    "# 書き出し完了の確認\n",
    "print(\"配列がファイルに書き出されました。\")"
   ]
  },
  {
   "cell_type": "code",
   "execution_count": 3,
   "metadata": {},
   "outputs": [
    {
     "ename": "TypeError",
     "evalue": "write() argument must be str, not list",
     "output_type": "error",
     "traceback": [
      "\u001b[1;31m---------------------------------------------------------------------------\u001b[0m",
      "\u001b[1;31mTypeError\u001b[0m                                 Traceback (most recent call last)",
      "Cell \u001b[1;32mIn[3], line 6\u001b[0m\n\u001b[0;32m      4\u001b[0m \u001b[38;5;66;03m# ファイルに配列を書き出す\u001b[39;00m\n\u001b[0;32m      5\u001b[0m \u001b[38;5;28;01mwith\u001b[39;00m \u001b[38;5;28mopen\u001b[39m(file_path, \u001b[38;5;124m\"\u001b[39m\u001b[38;5;124mw\u001b[39m\u001b[38;5;124m\"\u001b[39m) \u001b[38;5;28;01mas\u001b[39;00m file:\n\u001b[1;32m----> 6\u001b[0m     \u001b[43mfile\u001b[49m\u001b[38;5;241;43m.\u001b[39;49m\u001b[43mwrite\u001b[49m\u001b[43m(\u001b[49m\u001b[43marray\u001b[49m\u001b[43m)\u001b[49m\n\u001b[0;32m      8\u001b[0m \u001b[38;5;66;03m# 書き出し完了の確認\u001b[39;00m\n\u001b[0;32m      9\u001b[0m \u001b[38;5;28mprint\u001b[39m(\u001b[38;5;124m\"\u001b[39m\u001b[38;5;124m配列がファイルに書き出されました。\u001b[39m\u001b[38;5;124m\"\u001b[39m)\n",
      "\u001b[1;31mTypeError\u001b[0m: write() argument must be str, not list"
     ]
    }
   ],
   "source": [
    "# 配列の定義\n",
    "array = [\"apple\", \"banana\", \"cherry\"]\n",
    "\n",
    "# ファイルに配列を書き出す\n",
    "with open(file_path, \"w\") as file:\n",
    "    file.write(array)\n",
    "\n",
    "# 書き出し完了の確認\n",
    "print(\"配列がファイルに書き出されました。\")"
   ]
  },
  {
   "cell_type": "code",
   "execution_count": 6,
   "metadata": {},
   "outputs": [
    {
     "name": "stdout",
     "output_type": "stream",
     "text": [
      "配列がファイルに書き出されました。\n"
     ]
    }
   ],
   "source": [
    "# 配列の定義\n",
    "array = [\"apple\", \"banana\", \"cherry\"]\n",
    "\n",
    "# ファイルに配列を書き出す\n",
    "with open(file_path, \"w\") as file:\n",
    "    file.write(\"\\n\".join(array))\n",
    "\n",
    "# 書き出し完了の確認\n",
    "print(\"配列がファイルに書き出されました。\")"
   ]
  }
 ],
 "metadata": {
  "kernelspec": {
   "display_name": ".venv",
   "language": "python",
   "name": "python3"
  },
  "language_info": {
   "codemirror_mode": {
    "name": "ipython",
    "version": 3
   },
   "file_extension": ".py",
   "mimetype": "text/x-python",
   "name": "python",
   "nbconvert_exporter": "python",
   "pygments_lexer": "ipython3",
   "version": "3.9.7"
  }
 },
 "nbformat": 4,
 "nbformat_minor": 2
}
