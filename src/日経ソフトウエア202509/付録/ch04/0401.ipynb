{
 "cells": [
  {
   "cell_type": "code",
   "execution_count": 3,
   "metadata": {},
   "outputs": [
    {
     "name": "stdout",
     "output_type": "stream",
     "text": [
      "Number: 50\n",
      "String: masuda\n"
     ]
    }
   ],
   "source": [
    "number = int(input(\"Enter a number: \"))\n",
    "string = input(\"Enter a string: \")\n",
    "\n",
    "print(\"Number:\", number)\n",
    "print(\"String:\", string)\n"
   ]
  },
  {
   "cell_type": "code",
   "execution_count": 5,
   "metadata": {},
   "outputs": [
    {
     "name": "stdout",
     "output_type": "stream",
     "text": [
      "Number: 50\n",
      "String: masuda\n"
     ]
    }
   ],
   "source": [
    "text = input(\"Enter a number: \")\n",
    "number = int(text)\n",
    "string = input(\"Enter a string: \")\n",
    "\n",
    "print(\"Number:\", number)\n",
    "print(\"String:\", string)"
   ]
  },
  {
   "cell_type": "code",
   "execution_count": null,
   "metadata": {},
   "outputs": [],
   "source": [
    "try:\n",
    "    number = int(text)\n",
    "    print(\"Number:\", number)\n",
    "except ValueError:\n",
    "    print(\"Error: The provided text cannot be converted to an integer.\")"
   ]
  },
  {
   "cell_type": "code",
   "execution_count": 7,
   "metadata": {},
   "outputs": [
    {
     "name": "stdout",
     "output_type": "stream",
     "text": [
      "Error: The provided text cannot be converted to an integer.\n"
     ]
    }
   ],
   "source": [
    "try:\n",
    "    text = input(\"Enter a number: \")\n",
    "    number = int(text)\n",
    "    string = input(\"Enter a string: \")\n",
    "    print(\"Number:\", number)\n",
    "    print(\"String:\", string)\n",
    "except ValueError:\n",
    "    print(\"Error: The provided text cannot be converted to an integer.\")"
   ]
  },
  {
   "cell_type": "code",
   "execution_count": 10,
   "metadata": {},
   "outputs": [
    {
     "name": "stdout",
     "output_type": "stream",
     "text": [
      "名前: masuda\n",
      "年齢: 50\n"
     ]
    }
   ],
   "source": [
    "\n",
    "text = input(\"名前と年齢を入力してください（スペースで区切ってください）: \")\n",
    "name, age = text.split()\n",
    "age = int(age)\n",
    "\n",
    "print(\"名前:\", name)\n",
    "print(\"年齢:\", age)\n"
   ]
  },
  {
   "cell_type": "code",
   "execution_count": null,
   "metadata": {
    "vscode": {
     "languageId": "ini"
    }
   },
   "outputs": [],
   "source": []
  },
  {
   "cell_type": "code",
   "execution_count": 12,
   "metadata": {},
   "outputs": [
    {
     "name": "stdout",
     "output_type": "stream",
     "text": [
      "Name: masuda\n",
      "Age: 40\n",
      "Name: yamada\n",
      "Age: 30\n",
      "Name: tanaka\n",
      "Age: 30\n"
     ]
    }
   ],
   "source": [
    "# Initialize an empty list to store the names and ages\n",
    "people = []\n",
    "\n",
    "# Read multiple names and ages\n",
    "while True:\n",
    "    # Read the input for name and age\n",
    "    input_str = input(\"Enter name and age (separated by a space), or 'done' to finish: \")\n",
    "    \n",
    "    # Check if the user wants to finish entering names and ages\n",
    "    if input_str.lower() == 'done':\n",
    "        break\n",
    "    \n",
    "    # Split the input string into name and age\n",
    "    name, age = input_str.split()\n",
    "    \n",
    "    # Convert age to integer\n",
    "    age = int(age)\n",
    "    \n",
    "    # Add the name and age to the list\n",
    "    people.append((name, age))\n",
    "\n",
    "# Print the names and ages\n",
    "for name, age in people:\n",
    "    print(\"Name:\", name)\n",
    "    print(\"Age:\", age)\n"
   ]
  }
 ],
 "metadata": {
  "kernelspec": {
   "display_name": ".venv",
   "language": "python",
   "name": "python3"
  },
  "language_info": {
   "codemirror_mode": {
    "name": "ipython",
    "version": 3
   },
   "file_extension": ".py",
   "mimetype": "text/x-python",
   "name": "python",
   "nbconvert_exporter": "python",
   "pygments_lexer": "ipython3",
   "version": "3.9.7"
  }
 },
 "nbformat": 4,
 "nbformat_minor": 2
}
