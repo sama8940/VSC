{
 "cells": [
  {
   "cell_type": "markdown",
   "metadata": {},
   "source": [
    "数値や文字列を色々な方法で出力する\n"
   ]
  },
  {
   "cell_type": "code",
   "execution_count": 1,
   "metadata": {},
   "outputs": [
    {
     "name": "stdout",
     "output_type": "stream",
     "text": [
      "1000\n",
      "20\n",
      "1000000\n",
      "      1000\n",
      "        20\n",
      "   1000000\n",
      "1,000\n",
      "20\n",
      "1,000,000\n",
      "     1,000\n",
      "        20\n",
      " 1,000,000\n",
      "合計     1,000円\n",
      "合計        20円\n",
      "合計 1,000,000円\n"
     ]
    }
   ],
   "source": [
    "\n",
    "x = 1000\n",
    "y = 20\n",
    "z = 1000000\n",
    "\n",
    "# 通常の表示\n",
    "print(x)\n",
    "print(y)\n",
    "print(z)\n",
    "\n",
    "# 数値を右揃えにする\n",
    "print(\"{:>10}\".format(x))\n",
    "print(\"{:>10}\".format(y))\n",
    "print(\"{:>10}\".format(z))\n",
    "\n",
    "# 数値を3桁でカンマ区切りにする\n",
    "print(\"{:,}\".format(x))\n",
    "print(\"{:,}\".format(y))\n",
    "print(\"{:,}\".format(z))\n",
    "\n",
    "# 数値を3桁でカンマ区切りで右揃えにする\n",
    "print(\"{:>10,}\".format(x))\n",
    "print(\"{:>10,}\".format(y))\n",
    "print(\"{:>10,}\".format(z))\n",
    "\n",
    "# 円記号をつける\n",
    "print(\"合計{:>10,}円\".format(x))\n",
    "print(\"合計{:>10,}円\".format(y))\n",
    "print(\"合計{:>10,}円\".format(z))\n",
    "\n"
   ]
  },
  {
   "cell_type": "code",
   "execution_count": 10,
   "metadata": {},
   "outputs": [
    {
     "name": "stdout",
     "output_type": "stream",
     "text": [
      "1234.5678\n",
      "9876.5432\n",
      "1234.57\n",
      "9876.54\n",
      "1234\n",
      "9876\n",
      "1,234.5678\n",
      "9,876.5432\n",
      "1,234.57\n",
      "9,876.54\n",
      "12.35%\n",
      "98.77%\n"
     ]
    }
   ],
   "source": [
    "a = 1234.5678\n",
    "b = 9876.5432\n",
    "\n",
    "# 通常の表示\n",
    "print(a)\n",
    "print(b)\n",
    "\n",
    "# 小数点以下2桁まで表示する\n",
    "print(\"{:.2f}\".format(a))\n",
    "print(\"{:.2f}\".format(b))\n",
    "\n",
    "# 整数部を表示\n",
    "print(\"{:d}\".format(int(a)))\n",
    "print(\"{:d}\".format(int(b)))\n",
    "\n",
    "# 数値を3桁でカンマ区切りにする\n",
    "print(\"{:,}\".format(a))\n",
    "print(\"{:,}\".format(b))\n",
    "\n",
    "# 数値を3桁でカンマ区切りで小数点以下2桁まで表示する\n",
    "print(\"{:,.2f}\".format(a))\n",
    "print(\"{:,.2f}\".format(b))\n",
    "\n",
    "# 数値をパーセント表示する\n",
    "print(\"{:.2%}\".format(a / 10000))\n",
    "print(\"{:.2%}\".format(b / 10000))"
   ]
  },
  {
   "cell_type": "code",
   "execution_count": 12,
   "metadata": {},
   "outputs": [
    {
     "ename": "ValueError",
     "evalue": "Invalid format specifier",
     "output_type": "error",
     "traceback": [
      "\u001b[1;31m---------------------------------------------------------------------------\u001b[0m",
      "\u001b[1;31mValueError\u001b[0m                                Traceback (most recent call last)",
      "Cell \u001b[1;32mIn[12], line 2\u001b[0m\n\u001b[0;32m      1\u001b[0m \u001b[38;5;66;03m# これは指定できる？\u001b[39;00m\n\u001b[1;32m----> 2\u001b[0m \u001b[38;5;28mprint\u001b[39m(\u001b[38;5;124;43m\"\u001b[39;49m\u001b[38;5;124;43m{\u001b[39;49m\u001b[38;5;124;43m:.2f,}\u001b[39;49m\u001b[38;5;124;43m\"\u001b[39;49m\u001b[38;5;241;43m.\u001b[39;49m\u001b[43mformat\u001b[49m\u001b[43m(\u001b[49m\u001b[43ma\u001b[49m\u001b[43m)\u001b[49m)\n\u001b[0;32m      3\u001b[0m \u001b[38;5;28mprint\u001b[39m(\u001b[38;5;124m\"\u001b[39m\u001b[38;5;124m{\u001b[39m\u001b[38;5;124m:.2f,}\u001b[39m\u001b[38;5;124m\"\u001b[39m\u001b[38;5;241m.\u001b[39mformat(b))\n",
      "\u001b[1;31mValueError\u001b[0m: Invalid format specifier"
     ]
    }
   ],
   "source": [
    "# これは指定できる？\n",
    "print(\"{:.2f,}\".format(a))\n",
    "print(\"{:.2f,}\".format(b))"
   ]
  },
  {
   "cell_type": "markdown",
   "metadata": {},
   "source": [
    "文字列をいろいろな形式で表示する"
   ]
  },
  {
   "cell_type": "code",
   "execution_count": 18,
   "metadata": {},
   "outputs": [
    {
     "name": "stdout",
     "output_type": "stream",
     "text": [
      "Masuda Tomoaki\n",
      "Yamada Taro\n",
      "Sato Jiro\n",
      "名前:Masuda Tomoaki\n",
      "名前:Yamada Taro\n",
      "名前:Sato Jiro\n",
      "      Masuda Tomoaki\n",
      "         Yamada Taro\n",
      "           Sato Jiro\n",
      "'Masud'\n",
      "'Yamad'\n",
      "'Sato '\n",
      "Masuda Tomoaki\n",
      "Yamada Taro\n",
      "Sato Jiro\n",
      "'Masuda Tomoaki'\n",
      "'Yamada Taro'\n",
      "'Sato Jiro'\n",
      "Masuda*Tomoaki\n",
      "Yamada*Taro***\n",
      "Sato*Jiro*****\n"
     ]
    }
   ],
   "source": [
    "name1 = \"Masuda Tomoaki\"\n",
    "name2 = \"Yamada Taro\"\n",
    "name3 = \"Sato Jiro\"\n",
    "\n",
    "# 通常の表示\n",
    "print(name1)\n",
    "print(name2)\n",
    "print(name3)\n",
    "\n",
    "# 先頭に \"名前:\" をつける\n",
    "print(\"名前:{}\".format(name1))\n",
    "print(\"名前:{}\".format(name2))\n",
    "print(\"名前:{}\".format(name3))\n",
    "\n",
    "# 右揃えで表示する\n",
    "print(\"{:>20}\".format(name1))\n",
    "print(\"{:>20}\".format(name2))\n",
    "print(\"{:>20}\".format(name3))\n",
    "\n",
    "# 先頭の5文字だけを表示する\n",
    "print(\"'{:.5}'\".format(name1))\n",
    "print(\"'{:.5}'\".format(name2))\n",
    "print(\"'{:.5}'\".format(name3))\n",
    "\n",
    "\n",
    "name1 = \"Masuda Tomoaki\"\n",
    "name2 = \"Yamada Taro   \"\n",
    "name3 = \"Sato Jiro     \"\n",
    "\n",
    "\n",
    "# 前後の空白を削除する\n",
    "print(name1.strip())\n",
    "print(name2.strip())\n",
    "print(name3.strip())\n",
    "\n",
    "# 前後にシングルクォートをつける\n",
    "print(\"'{}'\".format(name1.strip()))\n",
    "print(\"'{}'\".format(name2.strip()))\n",
    "print(\"'{}'\".format(name3.strip()))\n",
    "\n",
    "# 空白を '*' で埋める\n",
    "print(name1.replace(\" \", \"*\"))\n",
    "print(name2.replace(\" \", \"*\"))\n",
    "print(name3.replace(\" \", \"*\"))\n"
   ]
  },
  {
   "cell_type": "code",
   "execution_count": 17,
   "metadata": {},
   "outputs": [
    {
     "name": "stdout",
     "output_type": "stream",
     "text": [
      "'😸🐶😸🐶😸'\n"
     ]
    }
   ],
   "source": [
    "name1 = \"😸🐶😸🐶😸🐶😸🐶😸🐶😸🐶\"\n",
    "print(\"'{:.5}'\".format(name1))"
   ]
  },
  {
   "cell_type": "code",
   "execution_count": 4,
   "metadata": {},
   "outputs": [
    {
     "name": "stdout",
     "output_type": "stream",
     "text": [
      "a: 1234.57, b: 9876.54\n",
      "名前はYamada, 年齢は18\n"
     ]
    }
   ],
   "source": [
    "a = 1234.5678\n",
    "b = 9876.5432\n",
    "# formatメソッドに2つの変数を渡す\n",
    "formatted_string = \"a: {:.2f}, b: {:.2f}\".format(a, b)\n",
    "print(formatted_string)\n",
    "\n",
    "name = \"Yamada\"\n",
    "age = 18\n",
    "# formatメソッドに文字列と数値を渡す\n",
    "formatted_string = \"名前は{}, 年齢は{}\".format(name, age)\n",
    "print(formatted_string)"
   ]
  },
  {
   "cell_type": "code",
   "execution_count": 19,
   "metadata": {},
   "outputs": [
    {
     "ename": "IndexError",
     "evalue": "Replacement index 2 out of range for positional args tuple",
     "output_type": "error",
     "traceback": [
      "\u001b[1;31m---------------------------------------------------------------------------\u001b[0m",
      "\u001b[1;31mIndexError\u001b[0m                                Traceback (most recent call last)",
      "Cell \u001b[1;32mIn[19], line 4\u001b[0m\n\u001b[0;32m      2\u001b[0m age \u001b[38;5;241m=\u001b[39m \u001b[38;5;241m18\u001b[39m\n\u001b[0;32m      3\u001b[0m \u001b[38;5;66;03m# formatメソッドに文字列と数値を渡す\u001b[39;00m\n\u001b[1;32m----> 4\u001b[0m formatted_string \u001b[38;5;241m=\u001b[39m \u001b[38;5;124;43m\"\u001b[39;49m\u001b[38;5;124;43m名前は\u001b[39;49m\u001b[38;5;132;43;01m{}\u001b[39;49;00m\u001b[38;5;124;43m, 年齢は\u001b[39;49m\u001b[38;5;132;43;01m{}\u001b[39;49;00m\u001b[38;5;124;43m, 余分\u001b[39;49m\u001b[38;5;132;43;01m{}\u001b[39;49;00m\u001b[38;5;124;43m\"\u001b[39;49m\u001b[38;5;241;43m.\u001b[39;49m\u001b[43mformat\u001b[49m\u001b[43m(\u001b[49m\u001b[43mname\u001b[49m\u001b[43m,\u001b[49m\u001b[43m \u001b[49m\u001b[43mage\u001b[49m\u001b[43m)\u001b[49m\n\u001b[0;32m      5\u001b[0m \u001b[38;5;28mprint\u001b[39m(formatted_string)\n",
      "\u001b[1;31mIndexError\u001b[0m: Replacement index 2 out of range for positional args tuple"
     ]
    }
   ],
   "source": [
    "name = \"Yamada\"\n",
    "age = 18\n",
    "# formatメソッドに文字列と数値を渡す\n",
    "formatted_string = \"名前は{}, 年齢は{}, 余分{}\".format(name, age)\n",
    "print(formatted_string)"
   ]
  }
 ],
 "metadata": {
  "kernelspec": {
   "display_name": ".venv",
   "language": "python",
   "name": "python3"
  },
  "language_info": {
   "codemirror_mode": {
    "name": "ipython",
    "version": 3
   },
   "file_extension": ".py",
   "mimetype": "text/x-python",
   "name": "python",
   "nbconvert_exporter": "python",
   "pygments_lexer": "ipython3",
   "version": "3.9.7"
  }
 },
 "nbformat": 4,
 "nbformat_minor": 2
}
