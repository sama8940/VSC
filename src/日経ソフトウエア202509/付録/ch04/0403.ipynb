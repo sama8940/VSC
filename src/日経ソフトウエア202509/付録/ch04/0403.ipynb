{
 "cells": [
  {
   "cell_type": "markdown",
   "metadata": {},
   "source": [
    "文字列から数値を取得する\n",
    "- 文字列から数値の読み込み\n",
    "- 指数表現からの読み込み\n",
    "- カンマ区切りの金額を読み込み\n",
    "- カンマ区切りのCSV形式から読み込み"
   ]
  },
  {
   "cell_type": "code",
   "execution_count": 5,
   "metadata": {},
   "outputs": [
    {
     "name": "stdout",
     "output_type": "stream",
     "text": [
      "10000\n",
      "10000\n",
      "123.456\n",
      "123.456\n",
      "1.23e4\n",
      "12300.0\n",
      "FF\n",
      "255\n",
      "￥1,000\n",
      "1000\n"
     ]
    }
   ],
   "source": [
    "s = \"10000\"\n",
    "\n",
    "# 文字列で表示\n",
    "print(s)\n",
    "# 数値に変換して表示\n",
    "x = int(s)\n",
    "print(x)\n",
    "\n",
    "s = \"123.456\"\n",
    "\n",
    "# 文字列で表示\n",
    "print(s)\n",
    "# 数値に変換して表示\n",
    "x = float(s)\n",
    "print(x)\n",
    "\n",
    "# 指数表現の場合\n",
    "s = \"1.23e4\"\n",
    "# 文字列で表示\n",
    "print(s)\n",
    "# 数値に変換して表示\n",
    "x = float(s)\n",
    "print(x)\n",
    "\n",
    "# 16進数の場合\n",
    "s = \"FF\"\n",
    "# 文字列で表示\n",
    "print(s)\n",
    "# 数値に変換して表示\n",
    "x = int(s, 16)\n",
    "print(x)\n",
    "\n",
    "# 金額の読み込み\n",
    "s = \"￥1,000\"\n",
    "# 文字列で表示\n",
    "print(s)\n",
    "# 数値に変換して表示\n",
    "x = int(s[1:].replace(\",\", \"\"))\n",
    "print(x)"
   ]
  },
  {
   "cell_type": "code",
   "execution_count": 1,
   "metadata": {},
   "outputs": [
    {
     "name": "stdout",
     "output_type": "stream",
     "text": [
      "123.456\n"
     ]
    },
    {
     "ename": "ValueError",
     "evalue": "invalid literal for int() with base 10: '123.456'",
     "output_type": "error",
     "traceback": [
      "\u001b[1;31m---------------------------------------------------------------------------\u001b[0m",
      "\u001b[1;31mValueError\u001b[0m                                Traceback (most recent call last)",
      "Cell \u001b[1;32mIn[1], line 5\u001b[0m\n\u001b[0;32m      3\u001b[0m \u001b[38;5;28mprint\u001b[39m(s)\n\u001b[0;32m      4\u001b[0m \u001b[38;5;66;03m# 数値に変換して表示\u001b[39;00m\n\u001b[1;32m----> 5\u001b[0m x \u001b[38;5;241m=\u001b[39m \u001b[38;5;28;43mint\u001b[39;49m\u001b[43m(\u001b[49m\u001b[43ms\u001b[49m\u001b[43m)\u001b[49m\n\u001b[0;32m      6\u001b[0m \u001b[38;5;28mprint\u001b[39m(x)\n",
      "\u001b[1;31mValueError\u001b[0m: invalid literal for int() with base 10: '123.456'"
     ]
    }
   ],
   "source": [
    "s = \"123.456\"\n",
    "# 文字列で表示\n",
    "print(s)\n",
    "# 数値に変換して表示\n",
    "x = int(s)\n",
    "print(x)"
   ]
  },
  {
   "cell_type": "code",
   "execution_count": 3,
   "metadata": {},
   "outputs": [
    {
     "name": "stdout",
     "output_type": "stream",
     "text": [
      "123.01234567890123456789\n",
      "123.01234567890124\n"
     ]
    }
   ],
   "source": [
    "s = \"123.01234567890123456789\"\n",
    "# 文字列で表示\n",
    "print(s)\n",
    "# 数値に変換して表示\n",
    "x = float(s)\n",
    "print(x)"
   ]
  },
  {
   "cell_type": "code",
   "execution_count": 9,
   "metadata": {},
   "outputs": [
    {
     "name": "stdout",
     "output_type": "stream",
     "text": [
      "11\n",
      "3\n"
     ]
    }
   ],
   "source": [
    "s = \"11\"\n",
    "# 文字列で表示\n",
    "print(s)\n",
    "# 数値に変換して表示\n",
    "x = int(s, 13)\n",
    "print(x)\n"
   ]
  },
  {
   "cell_type": "code",
   "execution_count": 12,
   "metadata": {},
   "outputs": [
    {
     "name": "stdout",
     "output_type": "stream",
     "text": [
      "￥1,000\n",
      "1,000\n",
      "1000\n",
      "1000\n"
     ]
    }
   ],
   "source": [
    "# 金額の読み込み\n",
    "s = \"￥1,000\"\n",
    "# 文字列で表示\n",
    "print(s)\n",
    "# 数値に変換して表示\n",
    "s1 = s[1:]\n",
    "print(s1)\n",
    "s2 = s1.replace(\",\", \"\")\n",
    "print(s2)\n",
    "x = int(s2)\n",
    "print(x)"
   ]
  },
  {
   "cell_type": "code",
   "execution_count": 16,
   "metadata": {},
   "outputs": [
    {
     "name": "stdout",
     "output_type": "stream",
     "text": [
      "100,200,300\n",
      "100 200 300\n",
      "\n",
      "\"100\",\"200\",\"300\"\n",
      "\n",
      "100 200 300\n"
     ]
    }
   ],
   "source": [
    "# カンマ区切りの文字列から数値を取り出す\n",
    "s = \"100,200,300\"\n",
    "# 文字列で表示\n",
    "print(s)\n",
    "# 数値に変換して表示\n",
    "x, y, z = map(int, s.split(\",\"))\n",
    "print(x, y, z)\n",
    "\n",
    "# カンマ区切りの文字列から数値を取り出す\n",
    "# 数値はダブルクォーテーションで囲まれている\n",
    "s = '''\n",
    "\"100\",\"200\",\"300\"\n",
    "'''\n",
    "# 文字列で表示\n",
    "print(s)\n",
    "# 数値に変換して表示\n",
    "x, y, z = map(str, s.split(\",\"))\n",
    "x = int(x.replace('\"', ''))\n",
    "y = int(y.replace('\"', ''))\n",
    "z = int(z.replace('\"', ''))\n",
    "\n",
    "print(x, y, z)\n"
   ]
  },
  {
   "cell_type": "code",
   "execution_count": 32,
   "metadata": {},
   "outputs": [
    {
     "name": "stdout",
     "output_type": "stream",
     "text": [
      "100,200,300\n",
      "['100', '200', '300']\n",
      "<map object at 0x000001DB07DDA190>\n",
      "100 200 300\n"
     ]
    }
   ],
   "source": [
    "# カンマ区切りの文字列から数値を取り出す\n",
    "s = \"100,200,300\"\n",
    "# 文字列で表示\n",
    "print(s)\n",
    "# 数値に変換して表示\n",
    "s1 = s.split(\",\")\n",
    "print(s1)\n",
    "s2 = map(int, s1)\n",
    "print(s2)\n",
    "x, y, z = s2\n",
    "print(x, y, z)\n",
    "\n"
   ]
  },
  {
   "cell_type": "code",
   "execution_count": 33,
   "metadata": {},
   "outputs": [
    {
     "name": "stdout",
     "output_type": "stream",
     "text": [
      "100,200,300\n",
      "['100', '200', '300']\n",
      "100 200 300\n"
     ]
    }
   ],
   "source": [
    "# カンマ区切りの文字列から数値を取り出す\n",
    "s = \"100,200,300\"\n",
    "# 文字列で表示\n",
    "print(s)\n",
    "# 数値に変換して表示\n",
    "s1 = s.split(\",\")\n",
    "print(s1)\n",
    "x = int(s1[0])\n",
    "y = int(s1[1])\n",
    "z = int(s1[2])\n",
    "print(x, y, z)"
   ]
  },
  {
   "cell_type": "code",
   "execution_count": 34,
   "metadata": {},
   "outputs": [
    {
     "name": "stdout",
     "output_type": "stream",
     "text": [
      "\n",
      "\"100\",\"200\",\"300\"\n",
      "\n",
      "100 200 300\n"
     ]
    }
   ],
   "source": [
    "# カンマ区切りの文字列から数値を取り出す\n",
    "# 数値はダブルクォーテーションで囲まれている\n",
    "s = '''\n",
    "\"100\",\"200\",\"300\"\n",
    "'''\n",
    "# 文字列で表示\n",
    "print(s)\n",
    "# 数値に変換して表示\n",
    "x, y, z = map(str, s.split(\",\"))\n",
    "x = int(x.replace('\"', ''))\n",
    "y = int(y.replace('\"', ''))\n",
    "z = int(z.replace('\"', ''))\n",
    "\n",
    "print(x, y, z)\n",
    "\n",
    "\n"
   ]
  },
  {
   "cell_type": "code",
   "execution_count": 37,
   "metadata": {},
   "outputs": [
    {
     "name": "stdout",
     "output_type": "stream",
     "text": [
      "1,Masuda,55,Tokyo\n",
      "1 Masuda 55 Tokyo\n"
     ]
    }
   ],
   "source": [
    "# カンマ区切りの文字列から数値や文字列を取り出す\n",
    "s = \"1,Masuda,55,Tokyo\"\n",
    "# 文字列で表示\n",
    "print(s)\n",
    "( id, name, age, address ) = s.split(\",\")\n",
    "id = int(id)\n",
    "age = int(age)\n",
    "print(id, name, age, address)"
   ]
  },
  {
   "cell_type": "code",
   "execution_count": 42,
   "metadata": {},
   "outputs": [
    {
     "name": "stdout",
     "output_type": "stream",
     "text": [
      "1 Masuda 55 Tokyo\n",
      "2 Kimura 49 Kanagawa\n",
      "3 Tanaka 35 Saitama\n",
      "4 Sakamoto 22 Chiba\n"
     ]
    }
   ],
   "source": [
    "# 複数行を処理する\n",
    "s = '''\n",
    "1,Masuda,55,Tokyo\n",
    "2,Kimura,49,Kanagawa\n",
    "3,Tanaka,35,Saitama\n",
    "4,Sakamoto,22,Chiba\n",
    "'''\n",
    "# 改行で分割\n",
    "lines = s.strip().split(\"\\n\")\n",
    "# 行ごとに処理\n",
    "for line in lines:\n",
    "    # カンマで分割\n",
    "    ( id, name, age, address ) = line.split(\",\")\n",
    "    id = int(id)\n",
    "    age = int(age)\n",
    "    print(id, name, age, address)\n"
   ]
  }
 ],
 "metadata": {
  "kernelspec": {
   "display_name": ".venv",
   "language": "python",
   "name": "python3"
  },
  "language_info": {
   "codemirror_mode": {
    "name": "ipython",
    "version": 3
   },
   "file_extension": ".py",
   "mimetype": "text/x-python",
   "name": "python",
   "nbconvert_exporter": "python",
   "pygments_lexer": "ipython3",
   "version": "3.9.7"
  }
 },
 "nbformat": 4,
 "nbformat_minor": 2
}
