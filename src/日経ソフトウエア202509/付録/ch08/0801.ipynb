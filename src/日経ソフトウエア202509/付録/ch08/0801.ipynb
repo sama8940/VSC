{
 "cells": [
  {
   "cell_type": "markdown",
   "metadata": {},
   "source": [
    "大量のデータを処理する例を書く。\n",
    "「国勢調査 令和２年国勢調査 人口等基本集計」のデータを処理する\n",
    "\n",
    "- CSVファイルを読み込む"
   ]
  },
  {
   "cell_type": "markdown",
   "metadata": {},
   "source": [
    "- CSVファイルを読み込むコードを書いて"
   ]
  },
  {
   "cell_type": "code",
   "execution_count": 2,
   "metadata": {},
   "outputs": [
    {
     "name": "stderr",
     "output_type": "stream",
     "text": [
      "C:\\Users\\masuda\\AppData\\Local\\Temp\\ipykernel_26008\\4225947564.py:25: FutureWarning: Series.__getitem__ treating keys as positions is deprecated. In a future version, integer keys will always be treated as labels (consistent with DataFrame behavior). To access a value by position, use `ser.iloc[pos]`\n",
      "  if row[3] in prefectures:\n",
      "C:\\Users\\masuda\\AppData\\Local\\Temp\\ipykernel_26008\\4225947564.py:26: FutureWarning: Series.__getitem__ treating keys as positions is deprecated. In a future version, integer keys will always be treated as labels (consistent with DataFrame behavior). To access a value by position, use `ser.iloc[pos]`\n",
      "  print(row[3].strip(), row[5].strip(), row[6].strip(), row[7].strip())\n"
     ]
    },
    {
     "name": "stdout",
     "output_type": "stream",
     "text": [
      "北海道 5,224,614 2,465,088 2,759,526\n",
      "青森県 1,237,984 583,402 654,582\n",
      "岩手県 1,210,534 582,952 627,582\n",
      "宮城県 2,301,996 1,122,598 1,179,398\n",
      "秋田県 959,502 452,439 507,063\n",
      "山形県 1,068,027 516,438 551,589\n",
      "福島県 1,833,152 903,864 929,288\n",
      "茨城県 2,867,009 1,430,976 1,436,033\n",
      "栃木県 1,933,146 964,930 968,216\n",
      "群馬県 1,939,110 959,411 979,699\n",
      "埼玉県 7,344,765 3,652,169 3,692,596\n",
      "千葉県 6,284,480 3,117,987 3,166,493\n",
      "東京都 14,047,594 6,898,388 7,149,206\n",
      "神奈川県 9,237,337 4,588,268 4,649,069\n",
      "新潟県 2,201,272 1,068,670 1,132,602\n",
      "富山県 1,034,814 502,637 532,177\n",
      "石川県 1,132,526 549,771 582,755\n",
      "福井県 766,863 373,973 392,890\n",
      "山梨県 809,974 397,309 412,665\n",
      "長野県 2,048,011 1,000,389 1,047,622\n",
      "岐阜県 1,978,742 960,436 1,018,306\n",
      "静岡県 3,633,202 1,791,118 1,842,084\n",
      "愛知県 7,542,415 3,761,502 3,780,913\n",
      "三重県 1,770,254 864,475 905,779\n",
      "滋賀県 1,413,610 697,429 716,181\n",
      "京都府 2,578,087 1,231,468 1,346,619\n",
      "大阪府 8,837,685 4,235,956 4,601,729\n",
      "兵庫県 5,465,002 2,599,756 2,865,246\n",
      "奈良県 1,324,473 623,926 700,547\n",
      "和歌山県 922,584 435,051 487,533\n",
      "鳥取県 553,407 264,432 288,975\n",
      "島根県 671,126 324,291 346,835\n",
      "岡山県 1,888,432 908,045 980,387\n",
      "広島県 2,799,702 1,357,156 1,442,546\n",
      "山口県 1,342,059 636,736 705,323\n",
      "徳島県 719,559 343,265 376,294\n",
      "香川県 950,244 459,197 491,047\n",
      "愛媛県 1,334,841 633,062 701,779\n",
      "高知県 691,527 326,531 364,996\n",
      "福岡県 5,135,214 2,430,951 2,704,263\n",
      "佐賀県 811,442 384,451 426,991\n",
      "長崎県 1,312,317 616,912 695,405\n",
      "熊本県 1,738,301 822,481 915,820\n",
      "大分県 1,123,852 533,414 590,438\n",
      "宮崎県 1,069,576 504,763 564,813\n",
      "鹿児島県 1,588,256 748,306 839,950\n",
      "沖縄県 1,467,480 722,812 744,668\n"
     ]
    }
   ],
   "source": [
    "import pandas as pd\n",
    "\n",
    "# Specify the file path\n",
    "file_path = 'FEH_00200521_240805152851.csv'\n",
    "\n",
    "# Read the CSV file into a pandas DataFrame\n",
    "df = pd.read_csv(file_path)\n",
    "\n",
    "# Display the DataFrame\n",
    "\n",
    "# 最初の行を読み飛ばす\n",
    "df.head()\n",
    "# 都道府県名のリストを作成\n",
    "prefectures = [\n",
    "    \"北海道\",\"青森県\", \"岩手県\",\"宮城県\",\"秋田県\",\"山形県\",\"福島県\",\n",
    "    \"茨城県\",\"栃木県\",\"群馬県\",\"埼玉県\",\"千葉県\",\"東京都\",\"神奈川県\",\n",
    "    \"新潟県\",\"富山県\",\"石川県\",\"福井県\",\"山梨県\",\"長野県\",\"岐阜県\",\n",
    "    \"静岡県\",\"愛知県\",\"三重県\",\"滋賀県\",\"京都府\",\"大阪府\",\"兵庫県\",\n",
    "    \"奈良県\",\"和歌山県\",\"鳥取県\",\"島根県\",\"岡山県\",\"広島県\",\"山口県\",\n",
    "    \"徳島県\",\"香川県\",\"愛媛県\",\"高知県\",\"福岡県\",\"佐賀県\",\"長崎県\",\n",
    "    \"熊本県\",\"大分県\",\"宮崎県\",\"鹿児島県\",\"沖縄県\"]\n",
    "\n",
    "# 都道府県名が含まれる行を表示\n",
    "for index, row in df.iterrows():\n",
    "    if row[3] in prefectures:\n",
    "        print(row[3].strip(), row[5].strip(), row[6].strip(), row[7].strip())\n"
   ]
  },
  {
   "cell_type": "markdown",
   "metadata": {},
   "source": [
    "```\n",
    "\"時間軸（年次） コード\",\"時間軸（年次）\",\"全国，都道府県，市区町村（2000年市区町村含む） コード\",\"全国，都道府県，市区町村（2000年市区町村含む）\",\"/男女\",\"総数\",\"男\",\"女\"\n",
    "\"2020000000\",\"2020年\",\"00000\",\"全国\",\"\",\"126,146,099\",\"61,349,581\",\"64,796,518\"\n",
    "\"2020000000\",\"2020年\",\"01000\",\"北海道\",\"\",\"5,224,614\",\"2,465,088\",\"2,759,526\"\n",
    "\"2020000000\",\"2020年\",\"01100\",\"札幌市\",\"\",\"1,973,395\",\"918,682\",\"1,054,713\"\n",
    "\"2020000000\",\"2020年\",\"01101\",\"札幌市中央区\",\"\",\"248,680\",\"112,853\",\"135,827\"\n",
    "\"2020000000\",\"2020年\",\"01102\",\"札幌市北区\",\"\",\"289,323\",\"136,596\",\"152,727\"\n",
    "```\n",
    "\n",
    "```python\n",
    "for index, row in df.iterrows():\n",
    "    if row[3] in prefectures:\n",
    "        print(row[3].strip(), row[5].strip(), row[6].strip(), row[7].strip())\n",
    "```\n"
   ]
  },
  {
   "cell_type": "markdown",
   "metadata": {},
   "source": [
    "平均値を求める。"
   ]
  },
  {
   "cell_type": "code",
   "execution_count": 3,
   "metadata": {},
   "outputs": [
    {
     "name": "stderr",
     "output_type": "stream",
     "text": [
      "C:\\Users\\masuda\\AppData\\Local\\Temp\\ipykernel_26008\\726045030.py:30: FutureWarning: Series.__getitem__ treating keys as positions is deprecated. In a future version, integer keys will always be treated as labels (consistent with DataFrame behavior). To access a value by position, use `ser.iloc[pos]`\n",
      "  if row[3] in prefectures:\n",
      "C:\\Users\\masuda\\AppData\\Local\\Temp\\ipykernel_26008\\726045030.py:32: FutureWarning: Series.__getitem__ treating keys as positions is deprecated. In a future version, integer keys will always be treated as labels (consistent with DataFrame behavior). To access a value by position, use `ser.iloc[pos]`\n",
      "  total += int(row[5].replace(',','').strip())\n",
      "C:\\Users\\masuda\\AppData\\Local\\Temp\\ipykernel_26008\\726045030.py:33: FutureWarning: Series.__getitem__ treating keys as positions is deprecated. In a future version, integer keys will always be treated as labels (consistent with DataFrame behavior). To access a value by position, use `ser.iloc[pos]`\n",
      "  men   += int(row[6].replace(',','').strip())\n",
      "C:\\Users\\masuda\\AppData\\Local\\Temp\\ipykernel_26008\\726045030.py:34: FutureWarning: Series.__getitem__ treating keys as positions is deprecated. In a future version, integer keys will always be treated as labels (consistent with DataFrame behavior). To access a value by position, use `ser.iloc[pos]`\n",
      "  women += int(row[7].replace(',','').strip())\n"
     ]
    },
    {
     "name": "stdout",
     "output_type": "stream",
     "text": [
      "全国 126146099\n",
      "全国 平均 2683959.5531914895\n",
      "男性 61349581\n",
      "男性 平均 1305310.2340425532\n",
      "女性 64796518\n",
      "女性 平均 1378649.319148936\n"
     ]
    }
   ],
   "source": [
    "import pandas as pd\n",
    "\n",
    "# Specify the file path\n",
    "file_path = 'FEH_00200521_240805152851.csv'\n",
    "\n",
    "# Read the CSV file into a pandas DataFrame\n",
    "df = pd.read_csv(file_path)\n",
    "\n",
    "# Display the DataFrame\n",
    "\n",
    "# 最初の行を読み飛ばす\n",
    "df.head()\n",
    "# 都道府県名のリストを作成\n",
    "prefectures = [\n",
    "    \"北海道\",\"青森県\", \"岩手県\",\"宮城県\",\"秋田県\",\"山形県\",\"福島県\",\n",
    "    \"茨城県\",\"栃木県\",\"群馬県\",\"埼玉県\",\"千葉県\",\"東京都\",\"神奈川県\",\n",
    "    \"新潟県\",\"富山県\",\"石川県\",\"福井県\",\"山梨県\",\"長野県\",\"岐阜県\",\n",
    "    \"静岡県\",\"愛知県\",\"三重県\",\"滋賀県\",\"京都府\",\"大阪府\",\"兵庫県\",\n",
    "    \"奈良県\",\"和歌山県\",\"鳥取県\",\"島根県\",\"岡山県\",\"広島県\",\"山口県\",\n",
    "    \"徳島県\",\"香川県\",\"愛媛県\",\"高知県\",\"福岡県\",\"佐賀県\",\"長崎県\",\n",
    "    \"熊本県\",\"大分県\",\"宮崎県\",\"鹿児島県\",\"沖縄県\"]\n",
    "\n",
    "# 都道府県名が含まれる行を表示\n",
    "total = 0\n",
    "men = 0\n",
    "women = 0\n",
    "\n",
    "\n",
    "for index, row in df.iterrows():\n",
    "    if row[3] in prefectures:\n",
    "        # print(row[3].strip(), row[5].strip(), row[6].strip(), row[7].strip())\n",
    "        total += int(row[5].replace(',','').strip())\n",
    "        men   += int(row[6].replace(',','').strip())\n",
    "        women += int(row[7].replace(',','').strip())\n",
    "\n",
    "\n",
    "\n",
    "print(\"全国\", total)\n",
    "print(\"全国 平均\", total / len(prefectures))\n",
    "print(\"男性\", men)\n",
    "print(\"男性 平均\", men / len(prefectures))\n",
    "print(\"女性\", women)\n",
    "print(\"女性 平均\", women / len(prefectures))\n"
   ]
  },
  {
   "cell_type": "markdown",
   "metadata": {},
   "source": [
    "分散を計算する"
   ]
  },
  {
   "cell_type": "code",
   "execution_count": 16,
   "metadata": {},
   "outputs": [
    {
     "name": "stderr",
     "output_type": "stream",
     "text": [
      "C:\\Users\\masuda\\AppData\\Local\\Temp\\ipykernel_12436\\131368027.py:30: FutureWarning: Series.__getitem__ treating keys as positions is deprecated. In a future version, integer keys will always be treated as labels (consistent with DataFrame behavior). To access a value by position, use `ser.iloc[pos]`\n",
      "  if row[3] in prefectures:\n"
     ]
    },
    {
     "name": "stdout",
     "output_type": "stream",
     "text": [
      "全国 分散: 1980407153282.3872\n",
      "男性 分散: 1849988741209.4988\n",
      "女性 分散: 1980407153282.3872\n"
     ]
    }
   ],
   "source": [
    "import pandas as pd\n",
    "import numpy as np\n",
    "\n",
    "# Specify the file path\n",
    "file_path = 'FEH_00200521_240805152851.csv'\n",
    "\n",
    "# Read the CSV file into a pandas DataFrame\n",
    "df = pd.read_csv(file_path)\n",
    "\n",
    "# Display the DataFrame\n",
    "\n",
    "# 最初の行を読み飛ばす\n",
    "df.head()\n",
    "# 都道府県名のリストを作成\n",
    "prefectures = [\n",
    "    \"北海道\",\"青森県\", \"岩手県\",\"宮城県\",\"秋田県\",\"山形県\",\"福島県\",\n",
    "    \"茨城県\",\"栃木県\",\"群馬県\",\"埼玉県\",\"千葉県\",\"東京都\",\"神奈川県\",\n",
    "    \"新潟県\",\"富山県\",\"石川県\",\"福井県\",\"山梨県\",\"長野県\",\"岐阜県\",\n",
    "    \"静岡県\",\"愛知県\",\"三重県\",\"滋賀県\",\"京都府\",\"大阪府\",\"兵庫県\",\n",
    "    \"奈良県\",\"和歌山県\",\"鳥取県\",\"島根県\",\"岡山県\",\"広島県\",\"山口県\",\n",
    "    \"徳島県\",\"香川県\",\"愛媛県\",\"高知県\",\"福岡県\",\"佐賀県\",\"長崎県\",\n",
    "    \"熊本県\",\"大分県\",\"宮崎県\",\"鹿児島県\",\"沖縄県\"]\n",
    "\n",
    "# 都道府県名が含まれる行を表示\n",
    "total = []\n",
    "men   = []\n",
    "women = []\n",
    "\n",
    "for index, row in df.iterrows():\n",
    "    if row[3] in prefectures:\n",
    "        # print(row[3].strip(), row[5].strip(), row[6].strip(), row[7].strip())\n",
    "        total.append(int(row.iloc[5].replace(',','').strip()))\n",
    "        men.append(int(row.iloc[6].replace(',','').strip()))\n",
    "        women.append(int(row.iloc[7].replace(',','').strip()))\n",
    "\n",
    "# 分散を計算する\n",
    "total_variance = np.var(total)\n",
    "men_variance = np.var(men)\n",
    "total_variance = np.var(women)\n",
    "\n",
    "print(\"全国 分散:\", total_variance)\n",
    "print(\"男性 分散:\", men_variance)\n",
    "print(\"女性 分散:\", total_variance)\n",
    "\n"
   ]
  },
  {
   "cell_type": "markdown",
   "metadata": {},
   "source": [
    "「○○市」の人口の平均と分散を計算する。"
   ]
  },
  {
   "cell_type": "code",
   "execution_count": 17,
   "metadata": {},
   "outputs": [
    {
     "name": "stdout",
     "output_type": "stream",
     "text": [
      "市の 合計: 106024666\n",
      "市の 平均: 133869.52777777778\n",
      "市の 分散: 66643362426.27953\n"
     ]
    }
   ],
   "source": [
    "import pandas as pd\n",
    "import numpy as np\n",
    "\n",
    "# Specify the file path\n",
    "file_path = 'FEH_00200521_240805152851.csv'\n",
    "\n",
    "# Read the CSV file into a pandas DataFrame\n",
    "df = pd.read_csv(file_path)\n",
    "\n",
    "# Display the DataFrame\n",
    "\n",
    "# 最初の行を読み飛ばす\n",
    "df.head()\n",
    "# 市だけをピックアップ\n",
    "total = []\n",
    "\n",
    "for index, row in df.iterrows():\n",
    "    # 市が含まれる行を表示\n",
    "    if row.iloc[3].endswith(\"市\"):\n",
    "        total.append(int(row.iloc[5].replace(',','').strip()))\n",
    "\n",
    "# 合計を計算する\n",
    "total_sum = np.sum(total)\n",
    "# 平均を計算する\n",
    "total_mean = np.mean(total)\n",
    "# 分散を計算する\n",
    "total_variance = np.var(total)\n",
    "\n",
    "print(\"市の 合計:\", total_sum)\n",
    "print(\"市の 平均:\", total_mean)\n",
    "print(\"市の 分散:\", total_variance)\n"
   ]
  }
 ],
 "metadata": {
  "kernelspec": {
   "display_name": ".venv",
   "language": "python",
   "name": "python3"
  },
  "language_info": {
   "codemirror_mode": {
    "name": "ipython",
    "version": 3
   },
   "file_extension": ".py",
   "mimetype": "text/x-python",
   "name": "python",
   "nbconvert_exporter": "python",
   "pygments_lexer": "ipython3",
   "version": "3.9.7"
  }
 },
 "nbformat": 4,
 "nbformat_minor": 2
}
