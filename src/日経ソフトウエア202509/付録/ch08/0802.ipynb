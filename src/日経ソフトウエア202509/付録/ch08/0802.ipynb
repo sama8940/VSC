{
 "cells": [
  {
   "cell_type": "code",
   "execution_count": 5,
   "metadata": {},
   "outputs": [
    {
     "name": "stdout",
     "output_type": "stream",
     "text": [
      "北海道 5,224,614 2,465,088 2,759,526\n",
      "青森県 1,237,984 583,402 654,582\n",
      "岩手県 1,210,534 582,952 627,582\n",
      "宮城県 2,301,996 1,122,598 1,179,398\n",
      "秋田県 959,502 452,439 507,063\n",
      "山形県 1,068,027 516,438 551,589\n",
      "福島県 1,833,152 903,864 929,288\n",
      "茨城県 2,867,009 1,430,976 1,436,033\n",
      "栃木県 1,933,146 964,930 968,216\n",
      "群馬県 1,939,110 959,411 979,699\n",
      "埼玉県 7,344,765 3,652,169 3,692,596\n",
      "千葉県 6,284,480 3,117,987 3,166,493\n",
      "東京都 14,047,594 6,898,388 7,149,206\n",
      "神奈川県 9,237,337 4,588,268 4,649,069\n",
      "新潟県 2,201,272 1,068,670 1,132,602\n",
      "富山県 1,034,814 502,637 532,177\n",
      "石川県 1,132,526 549,771 582,755\n",
      "福井県 766,863 373,973 392,890\n",
      "山梨県 809,974 397,309 412,665\n",
      "長野県 2,048,011 1,000,389 1,047,622\n",
      "岐阜県 1,978,742 960,436 1,018,306\n",
      "静岡県 3,633,202 1,791,118 1,842,084\n",
      "愛知県 7,542,415 3,761,502 3,780,913\n",
      "三重県 1,770,254 864,475 905,779\n",
      "滋賀県 1,413,610 697,429 716,181\n",
      "京都府 2,578,087 1,231,468 1,346,619\n",
      "大阪府 8,837,685 4,235,956 4,601,729\n",
      "兵庫県 5,465,002 2,599,756 2,865,246\n",
      "奈良県 1,324,473 623,926 700,547\n",
      "和歌山県 922,584 435,051 487,533\n",
      "鳥取県 553,407 264,432 288,975\n",
      "島根県 671,126 324,291 346,835\n",
      "岡山県 1,888,432 908,045 980,387\n",
      "広島県 2,799,702 1,357,156 1,442,546\n",
      "山口県 1,342,059 636,736 705,323\n",
      "徳島県 719,559 343,265 376,294\n",
      "香川県 950,244 459,197 491,047\n",
      "愛媛県 1,334,841 633,062 701,779\n",
      "高知県 691,527 326,531 364,996\n",
      "福岡県 5,135,214 2,430,951 2,704,263\n",
      "佐賀県 811,442 384,451 426,991\n",
      "長崎県 1,312,317 616,912 695,405\n",
      "熊本県 1,738,301 822,481 915,820\n",
      "大分県 1,123,852 533,414 590,438\n",
      "宮崎県 1,069,576 504,763 564,813\n",
      "鹿児島県 1,588,256 748,306 839,950\n",
      "沖縄県 1,467,480 722,812 744,668\n"
     ]
    }
   ],
   "source": [
    "import pandas as pd\n",
    "\n",
    "# Specify the file path\n",
    "file_path = 'FEH_00200521_240805152851.csv'\n",
    "# Read the CSV file into a pandas DataFrame\n",
    "df = pd.read_csv(file_path)\n",
    "# 最初の行を読み飛ばす\n",
    "df.head()\n",
    "# 都道府県名が含まれる行を表示\n",
    "for index, row in df.iterrows():\n",
    "    # 下3桁が「000」である場合は都道府県名\n",
    "    if row.iloc[2][-3:] == '000' and row.iloc[2] != '00000':\n",
    "        print(row.iloc[3].strip(), row.iloc[5].strip(), row.iloc[6].strip(), row.iloc[7].strip())\n"
   ]
  },
  {
   "cell_type": "markdown",
   "metadata": {},
   "source": [
    "平均値を求める。"
   ]
  },
  {
   "cell_type": "code",
   "execution_count": 8,
   "metadata": {},
   "outputs": [
    {
     "name": "stdout",
     "output_type": "stream",
     "text": [
      "全国 126146099\n",
      "全国 平均 2683959.5531914895\n",
      "男性 61349581\n",
      "男性 平均 1305310.2340425532\n",
      "女性 64796518\n",
      "女性 平均 1378649.319148936\n"
     ]
    }
   ],
   "source": [
    "import pandas as pd\n",
    "\n",
    "# Specify the file path\n",
    "file_path = 'FEH_00200521_240805152851.csv'\n",
    "# Read the CSV file into a pandas DataFrame\n",
    "df = pd.read_csv(file_path)\n",
    "# 最初の行を読み飛ばす\n",
    "df.head()\n",
    "# 都道府県名が含まれる行を表示\n",
    "total = 0\n",
    "men = 0\n",
    "women = 0\n",
    "for index, row in df.iterrows():\n",
    "    # 下3桁が「000」である場合は都道府県名\n",
    "    if row.iloc[2][-3:] == '000' and row.iloc[2] != '00000':\n",
    "        total += int(row.iloc[5].replace(',','').strip())\n",
    "        men   += int(row.iloc[6].replace(',','').strip())\n",
    "        women += int(row.iloc[7].replace(',','').strip())\n",
    "\n",
    "print(\"全国\", total)\n",
    "print(\"全国 平均\", total / 47)\n",
    "print(\"男性\", men)\n",
    "print(\"男性 平均\", men / 47)\n",
    "print(\"女性\", women)\n",
    "print(\"女性 平均\", women / 47)"
   ]
  },
  {
   "cell_type": "markdown",
   "metadata": {},
   "source": [
    "分散を計算する"
   ]
  },
  {
   "cell_type": "code",
   "execution_count": 11,
   "metadata": {},
   "outputs": [
    {
     "name": "stdout",
     "output_type": "stream",
     "text": [
      "全国 分散: 7654466967507.226\n",
      "男性 分散: 1849988741209.4988\n",
      "女性 分散: 1980407153282.3872\n",
      "全国 標準偏差: 2766670.737096705\n",
      "男性 標準偏差: 1360142.9120535455\n",
      "女性 標準偏差: 1407269.3961293933\n"
     ]
    }
   ],
   "source": [
    "import pandas as pd\n",
    "import numpy as np\n",
    "\n",
    "# Specify the file path\n",
    "file_path = 'FEH_00200521_240805152851.csv'\n",
    "\n",
    "# Read the CSV file into a pandas DataFrame\n",
    "df = pd.read_csv(file_path)\n",
    "\n",
    "# Display the DataFrame\n",
    "\n",
    "# 最初の行を読み飛ばす\n",
    "df.head()\n",
    "# 都道府県名のリストを作成\n",
    "total = []\n",
    "men = []\n",
    "women = []\n",
    "for index, row in df.iterrows():\n",
    "    # 下3桁が「000」である場合は都道府県名\n",
    "    if row.iloc[2][-3:] == '000' and row.iloc[2] != '00000':\n",
    "        total.append(int(row.iloc[5].replace(',','').strip()))\n",
    "        men.append(int(row.iloc[6].replace(',','').strip()))\n",
    "        women.append(int(row.iloc[7].replace(',','').strip()))\n",
    "\n",
    "# 分散を計算する\n",
    "total_variance = np.var(total)\n",
    "men_variance = np.var(men)\n",
    "women_variance = np.var(women)\n",
    "\n",
    "print(\"全国 分散:\", total_variance)\n",
    "print(\"男性 分散:\", men_variance)\n",
    "print(\"女性 分散:\", women_variance)\n",
    "\n",
    "# 標準偏差を計算する\n",
    "total_std = np.std(total)\n",
    "men_std = np.std(men)\n",
    "women_std = np.std(women)\n",
    "\n",
    "print(\"全国 標準偏差:\", total_std)\n",
    "print(\"男性 標準偏差:\", men_std)\n",
    "print(\"女性 標準偏差:\", women_std)\n",
    "\n"
   ]
  },
  {
   "cell_type": "markdown",
   "metadata": {},
   "source": [
    "「○○市」の人口の平均と分散を計算する。"
   ]
  },
  {
   "cell_type": "code",
   "execution_count": 12,
   "metadata": {},
   "outputs": [
    {
     "name": "stdout",
     "output_type": "stream",
     "text": [
      "市の 合計: 106024666\n",
      "市の 平均: 133869.52777777778\n",
      "市の 標準偏差: 258153.7573351965\n"
     ]
    }
   ],
   "source": [
    "import pandas as pd\n",
    "import numpy as np\n",
    "\n",
    "# Specify the file path\n",
    "file_path = 'FEH_00200521_240805152851.csv'\n",
    "\n",
    "# Read the CSV file into a pandas DataFrame\n",
    "df = pd.read_csv(file_path)\n",
    "\n",
    "# Display the DataFrame\n",
    "\n",
    "# 最初の行を読み飛ばす\n",
    "df.head()\n",
    "# 市だけをピックアップ\n",
    "total = []\n",
    "\n",
    "for index, row in df.iterrows():\n",
    "    # 市が含まれる行を表示\n",
    "    if row.iloc[3].endswith(\"市\"):\n",
    "        total.append(int(row.iloc[5].replace(',','').strip()))\n",
    "\n",
    "# 合計を計算する\n",
    "total_sum = np.sum(total)\n",
    "# 平均を計算する\n",
    "total_mean = np.mean(total)\n",
    "# 標準偏差を計算する\n",
    "total_std = np.std(total)\n",
    "\n",
    "print(\"市の 合計:\", total_sum)\n",
    "print(\"市の 平均:\", total_mean)\n",
    "print(\"市の 標準偏差:\", total_std)\n"
   ]
  }
 ],
 "metadata": {
  "kernelspec": {
   "display_name": ".venv",
   "language": "python",
   "name": "python3"
  },
  "language_info": {
   "codemirror_mode": {
    "name": "ipython",
    "version": 3
   },
   "file_extension": ".py",
   "mimetype": "text/x-python",
   "name": "python",
   "nbconvert_exporter": "python",
   "pygments_lexer": "ipython3",
   "version": "3.9.7"
  }
 },
 "nbformat": 4,
 "nbformat_minor": 2
}
