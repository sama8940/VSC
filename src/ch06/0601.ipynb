{
 "cells": [
  {
   "cell_type": "markdown",
   "metadata": {},
   "source": [
    "## 6.1 Excel シートからデータを取り込む\n",
    "\n",
    "```\n",
    "pip install pandas\n",
    "```\n"
   ]
  },
  {
   "cell_type": "code",
   "execution_count": 4,
   "metadata": {},
   "outputs": [
    {
     "name": "stdout",
     "output_type": "stream",
     "text": [
      "   id     name  age   address\n",
      "0   1   masuda   55     tokyo\n",
      "1   2   tanaka   40     tokyo\n",
      "2   3     sato   30     osaka\n",
      "3   4  yoshida   20     osaka\n",
      "4   5      aoi   10  hokkaido\n"
     ]
    }
   ],
   "source": [
    "import pandas as pd\n",
    "\n",
    "# Read the Excel file\n",
    "df = pd.read_excel('./sample.xlsx', sheet_name='Sheet1')\n",
    "\n",
    "# Display the data\n",
    "print(df)\n"
   ]
  },
  {
   "cell_type": "code",
   "execution_count": 6,
   "metadata": {},
   "outputs": [
    {
     "name": "stdout",
     "output_type": "stream",
     "text": [
      "1 masuda 55\n",
      "2 tanaka 40\n",
      "3 sato 30\n",
      "4 yoshida 20\n",
      "5 aoi 10\n"
     ]
    }
   ],
   "source": [
    "import pandas as pd\n",
    "\n",
    "# Read the Excel file\n",
    "df = pd.read_excel('./sample.xlsx', sheet_name='Sheet1')\n",
    "\n",
    "# 1行ずつデータを表示\n",
    "for index, row in df.iterrows():\n",
    "    print(row['id'], row['name'], row['age'])\n"
   ]
  },
  {
   "cell_type": "code",
   "execution_count": 10,
   "metadata": {},
   "outputs": [
    {
     "name": "stdout",
     "output_type": "stream",
     "text": [
      "   id     name\n",
      "0   1   masuda\n",
      "1   2   tanaka\n",
      "2   3     sato\n",
      "3   4  yoshida\n",
      "4   5      aoi\n"
     ]
    }
   ],
   "source": [
    "import pandas as pd\n",
    "\n",
    "# Read the Excel file\n",
    "df = pd.read_excel('./sample.xlsx', sheet_name='Sheet1')\n",
    "\n",
    "# id と name の列だけ表示\n",
    "print(df[['id', 'name']])\n"
   ]
  },
  {
   "cell_type": "code",
   "execution_count": 11,
   "metadata": {},
   "outputs": [
    {
     "name": "stdout",
     "output_type": "stream",
     "text": [
      "1 masuda\n",
      "2 tanaka\n",
      "3 sato\n",
      "4 yoshida\n",
      "5 aoi\n"
     ]
    }
   ],
   "source": [
    "import pandas as pd\n",
    "\n",
    "# Read the Excel file\n",
    "df = pd.read_excel('./sample.xlsx', sheet_name='Sheet1')\n",
    "\n",
    "# id と name の列だけ表示\n",
    "for index, row in df.iterrows():\n",
    "    print(row['id'], row['name'])\n"
   ]
  },
  {
   "cell_type": "code",
   "execution_count": 13,
   "metadata": {},
   "outputs": [
    {
     "name": "stdout",
     "output_type": "stream",
     "text": [
      "4 yoshida 20\n",
      "5 aoi 10\n"
     ]
    }
   ],
   "source": [
    "import pandas as pd\n",
    "\n",
    "# Read the Excel file\n",
    "df = pd.read_excel('./sample.xlsx', sheet_name='Sheet1')\n",
    "\n",
    "# age が 20 以下のデータだけ表示\n",
    "for index, row in df.iterrows():\n",
    "    if row['age'] <= 20:\n",
    "        print(row['id'], row['name'], row['age'])\n"
   ]
  }
 ],
 "metadata": {
  "kernelspec": {
   "display_name": ".venv",
   "language": "python",
   "name": "python3"
  },
  "language_info": {
   "codemirror_mode": {
    "name": "ipython",
    "version": 3
   },
   "file_extension": ".py",
   "mimetype": "text/x-python",
   "name": "python",
   "nbconvert_exporter": "python",
   "pygments_lexer": "ipython3",
   "version": "3.9.7"
  }
 },
 "nbformat": 4,
 "nbformat_minor": 2
}
