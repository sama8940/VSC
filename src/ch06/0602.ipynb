{
 "cells": [
  {
   "cell_type": "code",
   "execution_count": 13,
   "metadata": {},
   "outputs": [
    {
     "name": "stdout",
     "output_type": "stream",
     "text": [
      "4 yoshida 20\n",
      "5 aoi 10\n"
     ]
    }
   ],
   "source": [
    "import pandas as pd\n",
    "\n",
    "# Read the Excel file\n",
    "df = pd.read_excel('./sample.xlsx', sheet_name='Sheet1')\n",
    "\n",
    "# age が 20 以下のデータだけ表示\n",
    "for index, row in df.iterrows():\n",
    "    if row['age'] <= 20:\n",
    "        print(row['id'], row['name'], row['age'])\n"
   ]
  },
  {
   "cell_type": "code",
   "execution_count": 15,
   "metadata": {},
   "outputs": [
    {
     "name": "stdout",
     "output_type": "stream",
     "text": [
      "   id     name  age   address\n",
      "3   4  yoshida   20     osaka\n",
      "4   5      aoi   10  hokkaido\n"
     ]
    }
   ],
   "source": [
    "import pandas as pd\n",
    "\n",
    "# Read the Excel file\n",
    "df = pd.read_excel('./sample.xlsx', sheet_name='Sheet1')\n",
    "\n",
    "# age が 20 以下のデータだけ表示\n",
    "df = df.query('age <= 20')\n",
    "print(df)\n"
   ]
  },
  {
   "cell_type": "code",
   "execution_count": 20,
   "metadata": {},
   "outputs": [
    {
     "name": "stdout",
     "output_type": "stream",
     "text": [
      "   id    name  age address\n",
      "0   1  masuda   55   tokyo\n",
      "1   2  tanaka   40   tokyo\n"
     ]
    }
   ],
   "source": [
    "import pandas as pd\n",
    "\n",
    "# Read the Excel file\n",
    "df = pd.read_excel('./sample.xlsx', sheet_name='Sheet1')\n",
    "\n",
    "# address が 'Tokyo' のデータだけ表示\n",
    "df = df.query(\"address == 'tokyo'\")\n",
    "print(df)\n"
   ]
  },
  {
   "cell_type": "code",
   "execution_count": 12,
   "metadata": {},
   "outputs": [
    {
     "name": "stdout",
     "output_type": "stream",
     "text": [
      "   id     name  age   address\n",
      "4   5      aoi   10  hokkaido\n",
      "0   1   masuda   55     tokyo\n",
      "2   3     sato   30     osaka\n",
      "1   2   tanaka   40     tokyo\n",
      "3   4  yoshida   20     osaka\n"
     ]
    }
   ],
   "source": [
    "import pandas as pd\n",
    "\n",
    "# Read the Excel file\n",
    "df = pd.read_excel('./sample.xlsx', sheet_name='Sheet1')\n",
    "\n",
    "# name でソート\n",
    "df = df.sort_values('name')\n",
    "print(df)\n"
   ]
  }
 ],
 "metadata": {
  "kernelspec": {
   "display_name": ".venv",
   "language": "python",
   "name": "python3"
  },
  "language_info": {
   "codemirror_mode": {
    "name": "ipython",
    "version": 3
   },
   "file_extension": ".py",
   "mimetype": "text/x-python",
   "name": "python",
   "nbconvert_exporter": "python",
   "pygments_lexer": "ipython3",
   "version": "3.9.7"
  }
 },
 "nbformat": 4,
 "nbformat_minor": 2
}
