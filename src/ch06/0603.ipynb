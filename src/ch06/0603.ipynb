{
 "cells": [
  {
   "cell_type": "code",
   "execution_count": 1,
   "metadata": {},
   "outputs": [
    {
     "name": "stdout",
     "output_type": "stream",
     "text": [
      "Excelファイルに書き出しました。\n"
     ]
    }
   ],
   "source": [
    "import pandas as pd\n",
    "\n",
    "# サンプルデータの作成\n",
    "data = {\n",
    "    '名前': ['太郎', '花子', '次郎'],\n",
    "    '年齢': [25, 30, 22],\n",
    "    '職業': ['エンジニア', 'デザイナー', 'データサイエンティスト']\n",
    "}\n",
    "\n",
    "df = pd.DataFrame(data)\n",
    "\n",
    "# Excelファイルに書き出し\n",
    "df.to_excel('output.xlsx', index=False)\n",
    "\n",
    "print(\"Excelファイルに書き出しました。\")"
   ]
  },
  {
   "cell_type": "code",
   "execution_count": 3,
   "metadata": {},
   "outputs": [
    {
     "name": "stdout",
     "output_type": "stream",
     "text": [
      "Excelファイルに書き出しました。\n"
     ]
    }
   ],
   "source": [
    "import pandas as pd\n",
    "\n",
    "# サンプルデータの作成\n",
    "data = [\n",
    "    { '名前': '太郎', '年齢': 25, '職業': 'エンジニア' },\n",
    "    { '名前': '花子', '年齢': 30, '職業': 'デザイナー' },\n",
    "    { '名前': '次郎', '年齢': 22, '職業': 'データサイエンティスト' }\n",
    "]\n",
    "\n",
    "df = pd.DataFrame(data)\n",
    "\n",
    "# Excelファイルに書き出し\n",
    "df.to_excel('output.xlsx', index=False)\n",
    "\n",
    "print(\"Excelファイルに書き出しました。\")"
   ]
  }
 ],
 "metadata": {
  "kernelspec": {
   "display_name": ".venv",
   "language": "python",
   "name": "python3"
  },
  "language_info": {
   "codemirror_mode": {
    "name": "ipython",
    "version": 3
   },
   "file_extension": ".py",
   "mimetype": "text/x-python",
   "name": "python",
   "nbconvert_exporter": "python",
   "pygments_lexer": "ipython3",
   "version": "3.9.7"
  }
 },
 "nbformat": 4,
 "nbformat_minor": 2
}
