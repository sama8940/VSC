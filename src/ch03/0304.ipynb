{
 "cells": [
  {
   "cell_type": "code",
   "execution_count": 3,
   "metadata": {},
   "outputs": [
    {
     "name": "stdout",
     "output_type": "stream",
     "text": [
      "Hello, {name}!\n",
      "Hello, {name}!\n"
     ]
    }
   ],
   "source": [
    "def greet(name):\n",
    "    print(\"Hello, {name}!\")\n",
    "\n",
    "greet(\"Alice\")\n",
    "greet(\"Bob\")\n"
   ]
  },
  {
   "cell_type": "code",
   "execution_count": 2,
   "metadata": {},
   "outputs": [
    {
     "name": "stdout",
     "output_type": "stream",
     "text": [
      "Hello, Alice!\n",
      "Hi, Bob!\n"
     ]
    }
   ],
   "source": [
    "def greet(name, greeting=\"Hello\"):\n",
    "    print(f\"{greeting}, {name}!\")\n",
    "\n",
    "greet(\"Alice\")  # Output: Hello, Alice!\n",
    "greet(\"Bob\", \"Hi\")  # Output: Hi, Bob!\n"
   ]
  },
  {
   "cell_type": "markdown",
   "metadata": {},
   "source": [
    "fは、Pythonのf-string（フォーマット済み文字列リテラル）のプレフィックスです。f-stringは、文字列内で変数や式を埋め込むための便利な方法です。f-stringを使用すると、変数や式を中括弧{}で囲んで文字列内に埋め込むことができます。例えば、`f\"Hello, {name}!\"`というコードでは、`name`という変数の値が文字列内に埋め込まれます。f-stringを使用することで、変数の値を簡単に文字列に組み込むことができます。\n",
    "\n"
   ]
  },
  {
   "cell_type": "code",
   "execution_count": 5,
   "metadata": {},
   "outputs": [
    {
     "name": "stdout",
     "output_type": "stream",
     "text": [
      "4\n"
     ]
    }
   ],
   "source": [
    "def square_number(num):\n",
    "    return num ** 2\n",
    "\n",
    "print(square_number(2))  # Output: 4"
   ]
  },
  {
   "cell_type": "code",
   "execution_count": 10,
   "metadata": {},
   "outputs": [
    {
     "name": "stdout",
     "output_type": "stream",
     "text": [
      "4\n",
      "9\n",
      "16\n"
     ]
    }
   ],
   "source": [
    "print(square_number(2)) \n",
    "print(square_number(3))  \n",
    "print(square_number(4))  "
   ]
  },
  {
   "cell_type": "code",
   "execution_count": 7,
   "metadata": {},
   "outputs": [
    {
     "name": "stdout",
     "output_type": "stream",
     "text": [
      "5\n"
     ]
    }
   ],
   "source": [
    "def add_numbers(num1, num2):\n",
    "    return num1 + num2\n",
    "\n",
    "print(add_numbers(2, 3))  # Output: 5"
   ]
  },
  {
   "cell_type": "code",
   "execution_count": 6,
   "metadata": {},
   "outputs": [
    {
     "name": "stdout",
     "output_type": "stream",
     "text": [
      "15\n"
     ]
    }
   ],
   "source": [
    "def sum_numbers(*args):\n",
    "    total = sum(args)\n",
    "    return total\n",
    "\n",
    "result = sum_numbers(1, 2, 3, 4, 5)\n",
    "print(result)  # Output: 15"
   ]
  },
  {
   "cell_type": "code",
   "execution_count": 8,
   "metadata": {},
   "outputs": [
    {
     "name": "stdout",
     "output_type": "stream",
     "text": [
      "12\n"
     ]
    }
   ],
   "source": [
    "def multiply_numbers(num1, num2):\n",
    "    return num1 * num2\n",
    "\n",
    "result = multiply_numbers(3, 4)\n",
    "print(result)  # Output: 12"
   ]
  },
  {
   "cell_type": "code",
   "execution_count": null,
   "metadata": {},
   "outputs": [],
   "source": [
    "def multiply_numbers(num1, num2):\n",
    "    value = num1 * num2\n",
    "    return value\n",
    "\n",
    "result = multiply_numbers(3, 4)\n",
    "print(result)  # Output: 12"
   ]
  },
  {
   "cell_type": "code",
   "execution_count": 12,
   "metadata": {},
   "outputs": [
    {
     "name": "stdout",
     "output_type": "stream",
     "text": [
      "Total: 15\n",
      "Average: 3.0\n",
      "Maximum: 5\n",
      "Minimum: 1\n"
     ]
    }
   ],
   "source": [
    "def calculate_statistics(numbers):\n",
    "    total = sum(numbers)\n",
    "    average = total / len(numbers)\n",
    "    maximum = max(numbers)\n",
    "    minimum = min(numbers)\n",
    "    return total, average, maximum, minimum\n",
    "\n",
    "numbers = [1, 2, 3, 4, 5]\n",
    "total, average, maximum, minimum = calculate_statistics(numbers)\n",
    "\n",
    "print(\"Total:\", total)\n",
    "print(\"Average:\", average)\n",
    "print(\"Maximum:\", maximum)\n",
    "print(\"Minimum:\", minimum)"
   ]
  },
  {
   "cell_type": "code",
   "execution_count": 14,
   "metadata": {},
   "outputs": [
    {
     "name": "stdout",
     "output_type": "stream",
     "text": [
      "Total: 15\n",
      "Average: 3.0\n",
      "Maximum: 5\n",
      "Minimum: 1\n"
     ]
    }
   ],
   "source": [
    "def calculate_statistics(numbers):\n",
    "    total = sum(numbers)\n",
    "    average = total / len(numbers)\n",
    "    maximum = max(numbers)\n",
    "    minimum = min(numbers)\n",
    "    value = total, average, maximum, minimum\n",
    "    return value\n",
    "\n",
    "numbers = [1, 2, 3, 4, 5]\n",
    "total, average, maximum, minimum = calculate_statistics(numbers)\n",
    "\n",
    "print(\"Total:\", total)\n",
    "print(\"Average:\", average)\n",
    "print(\"Maximum:\", maximum)\n",
    "print(\"Minimum:\", minimum)"
   ]
  },
  {
   "cell_type": "code",
   "execution_count": 15,
   "metadata": {},
   "outputs": [
    {
     "name": "stdout",
     "output_type": "stream",
     "text": [
      "Total: 15\n",
      "Average: 3.0\n",
      "Maximum: 5\n",
      "Minimum: 1\n"
     ]
    }
   ],
   "source": [
    "def calculate_statistics(numbers):\n",
    "    total = sum(numbers)\n",
    "    average = total / len(numbers)\n",
    "    maximum = max(numbers)\n",
    "    minimum = min(numbers)\n",
    "    return total, average, maximum, minimum\n",
    "\n",
    "numbers = [1, 2, 3, 4, 5]\n",
    "sum, ave, max, min = calculate_statistics(numbers)\n",
    "\n",
    "print(\"Total:\", sum)\n",
    "print(\"Average:\", ave)\n",
    "print(\"Maximum:\", max)\n",
    "print(\"Minimum:\", min)"
   ]
  },
  {
   "cell_type": "code",
   "execution_count": null,
   "metadata": {},
   "outputs": [],
   "source": [
    "def calculate_statistics(numbers):\n",
    "    total = sum(numbers)\n",
    "    average = total / len(numbers)\n",
    "    maximum = max(numbers)\n",
    "    minimum = min(numbers)\n",
    "    return total, average, maximum, minimum\n",
    "\n",
    "numbers = [1, 2, 3, 4, 5]\n",
    "result = calculate_statistics(numbers)\n",
    "( sum, ave, max, min) = result\n",
    "\n",
    "print(\"Total:\", sum)\n",
    "print(\"Average:\", ave)\n",
    "print(\"Maximum:\", max)\n",
    "print(\"Minimum:\", min)"
   ]
  },
  {
   "cell_type": "code",
   "execution_count": 9,
   "metadata": {},
   "outputs": [
    {
     "name": "stdout",
     "output_type": "stream",
     "text": [
      "15\n"
     ]
    }
   ],
   "source": [
    "def calculate_sum(numbers):\n",
    "    total = sum(numbers)\n",
    "    return total\n",
    "\n",
    "numbers = [1, 2, 3, 4, 5]\n",
    "result = calculate_sum(numbers)\n",
    "print(result)  # Output: 15"
   ]
  },
  {
   "cell_type": "code",
   "execution_count": 16,
   "metadata": {},
   "outputs": [
    {
     "name": "stdout",
     "output_type": "stream",
     "text": [
      "Hello, my name is Alice and I am 25 years old.\n",
      "Hello, my name is Bob and I am 30 years old.\n"
     ]
    }
   ],
   "source": [
    "class Person:\n",
    "    def __init__(self, name, age):\n",
    "        self.name = name\n",
    "        self.age = age\n",
    "\n",
    "    def greet(self):\n",
    "        print(f\"Hello, my name is {self.name} and I am {self.age} years old.\")\n",
    "\n",
    "person1 = Person(\"Alice\", 25)\n",
    "person2 = Person(\"Bob\", 30)\n",
    "\n",
    "person1.greet()  # Output: Hello, my name is Alice and I am 25 years old.\n",
    "person2.greet()  # Output: Hello, my name is Bob and I am 30 years old."
   ]
  },
  {
   "cell_type": "code",
   "execution_count": 17,
   "metadata": {},
   "outputs": [
    {
     "name": "stdout",
     "output_type": "stream",
     "text": [
      "Total items in the shopping cart: 2\n",
      "Item names in the shopping cart: ['Apple', 'Orange']\n"
     ]
    }
   ],
   "source": [
    "class ShoppingCart:\n",
    "    def __init__(self):\n",
    "        self.items = []\n",
    "\n",
    "    def add_item(self, item):\n",
    "        self.items.append(item)\n",
    "\n",
    "    def remove_item(self, item):\n",
    "        self.items.remove(item)\n",
    "\n",
    "    def get_total_items(self):\n",
    "        return len(self.items)\n",
    "\n",
    "    def get_item_names(self):\n",
    "        return [item.name for item in self.items]\n",
    "\n",
    "\n",
    "class Item:\n",
    "    def __init__(self, name, price):\n",
    "        self.name = name\n",
    "        self.price = price\n",
    "\n",
    "\n",
    "# Create instances of Item\n",
    "item1 = Item(\"Apple\", 1.0)\n",
    "item2 = Item(\"Banana\", 0.5)\n",
    "item3 = Item(\"Orange\", 0.75)\n",
    "\n",
    "# Create an instance of ShoppingCart\n",
    "cart = ShoppingCart()\n",
    "\n",
    "# Add items to the shopping cart\n",
    "cart.add_item(item1)\n",
    "cart.add_item(item2)\n",
    "cart.add_item(item3)\n",
    "\n",
    "# Remove an item from the shopping cart\n",
    "cart.remove_item(item2)\n",
    "\n",
    "# Get the total number of items in the shopping cart\n",
    "total_items = cart.get_total_items()\n",
    "print(\"Total items in the shopping cart:\", total_items)\n",
    "\n",
    "# Get the names of the items in the shopping cart\n",
    "item_names = cart.get_item_names()\n",
    "print(\"Item names in the shopping cart:\", item_names)"
   ]
  }
 ],
 "metadata": {
  "kernelspec": {
   "display_name": ".venv",
   "language": "python",
   "name": "python3"
  },
  "language_info": {
   "codemirror_mode": {
    "name": "ipython",
    "version": 3
   },
   "file_extension": ".py",
   "mimetype": "text/x-python",
   "name": "python",
   "nbconvert_exporter": "python",
   "pygments_lexer": "ipython3",
   "version": "3.9.7"
  }
 },
 "nbformat": 4,
 "nbformat_minor": 2
}
