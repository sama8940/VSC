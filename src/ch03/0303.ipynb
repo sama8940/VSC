{
 "cells": [
  {
   "cell_type": "code",
   "execution_count": 7,
   "metadata": {},
   "outputs": [
    {
     "name": "stdout",
     "output_type": "stream",
     "text": [
      "1\n",
      "3\n",
      "[1, 10, 3, 4, 5]\n",
      "[1, 10, 3, 4, 5, 6]\n",
      "[1, 10, 4, 5, 6]\n",
      "5\n"
     ]
    }
   ],
   "source": [
    "# Create an array\n",
    "my_array = [1, 2, 3, 4, 5]\n",
    "\n",
    "# Accessing elements in the array\n",
    "print(my_array[0])  # Output: 1\n",
    "print(my_array[2])  # Output: 3\n",
    "\n",
    "# Modifying elements in the array\n",
    "my_array[1] = 10\n",
    "print(my_array)  # Output: [1, 10, 3, 4, 5]\n",
    "\n",
    "# Adding elements to the array\n",
    "my_array.append(6)\n",
    "print(my_array)  # Output: [1, 10, 3, 4, 5, 6]\n",
    "\n",
    "# Removing elements from the array\n",
    "my_array.remove(3)\n",
    "print(my_array)  # Output: [1, 10, 4, 5, 6]\n",
    "\n",
    "# Length of the array\n",
    "print(len(my_array))  # Output: 5\n"
   ]
  },
  {
   "cell_type": "code",
   "execution_count": 2,
   "metadata": {},
   "outputs": [
    {
     "name": "stdout",
     "output_type": "stream",
     "text": [
      "Alice\n",
      "25\n",
      "{'Name': 'Alice', 'Age': 30, 'Gender': 'F'}\n",
      "{'Name': 'Alice', 'Age': 30, 'Gender': 'F', 'City': 'New York'}\n",
      "{'Name': 'Alice', 'Age': 30, 'City': 'New York'}\n",
      "3\n"
     ]
    }
   ],
   "source": [
    "# Create a dictionary\n",
    "my_dict = {'Name': 'Alice', 'Age': 25, 'Gender': 'F'}\n",
    "\n",
    "# Accessing elements in the dictionary\n",
    "print(my_dict['Name'])  # Output: 'Alice'\n",
    "print(my_dict['Age'])  # Output: 25\n",
    "\n",
    "# Modifying elements in the dictionary\n",
    "my_dict['Age'] = 30\n",
    "print(my_dict)  # Output: {'Name': 'Alice', 'Age': 30, 'Gender': 'F'}\n",
    "\n",
    "# Adding elements to the dictionary\n",
    "my_dict['City'] = 'New York'\n",
    "print(my_dict)  # Output: {'Name': 'Alice', 'Age': 30, 'Gender': 'F', 'City': 'New York'}\n",
    "\n",
    "# Removing elements from the dictionary\n",
    "del my_dict['Gender']\n",
    "print(my_dict)  # Output: {'Name': 'Alice', 'Age': 30, 'City': 'New York'}\n",
    "\n",
    "# Length of the dictionary\n",
    "print(len(my_dict))  # Output: 3\n"
   ]
  },
  {
   "cell_type": "markdown",
   "metadata": {},
   "source": [
    "はい、Pythonの辞書には値を指定して削除するためのメソッドがあります。`dict`オブジェクトの`pop()`メソッドを使用することで、指定した値に対応するキーと値を辞書から削除することができます。\n",
    "\n",
    "以下は`pop()`メソッドの使用例です。\n",
    "\n",
    "```python\n",
    "my_dict = {'Name': 'Alice', 'Age': 25, 'Gender': 'F'}\n",
    "\n",
    "# 値が'F'に対応するキーと値を削除\n",
    "my_dict.pop('Gender')\n",
    "\n",
    "print(my_dict)\n",
    "```\n",
    "\n",
    "出力:\n",
    "```\n",
    "{'Name': 'Alice', 'Age': 25}\n",
    "```\n",
    "\n",
    "`pop()`メソッドは指定した値に対応するキーと値を削除し、削除された値を返します。もし指定した値が辞書に存在しない場合は、`KeyError`が発生しますので、存在を確認してから使用することが重要です。"
   ]
  }
 ],
 "metadata": {
  "kernelspec": {
   "display_name": ".venv",
   "language": "python",
   "name": "python3"
  },
  "language_info": {
   "codemirror_mode": {
    "name": "ipython",
    "version": 3
   },
   "file_extension": ".py",
   "mimetype": "text/x-python",
   "name": "python",
   "nbconvert_exporter": "python",
   "pygments_lexer": "ipython3",
   "version": "3.9.7"
  }
 },
 "nbformat": 4,
 "nbformat_minor": 2
}
