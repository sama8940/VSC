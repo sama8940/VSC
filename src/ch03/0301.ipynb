{
 "cells": [
  {
   "cell_type": "code",
   "execution_count": 2,
   "metadata": {},
   "outputs": [
    {
     "name": "stdout",
     "output_type": "stream",
     "text": [
      "加算結果: 15\n",
      "減算結果: 5\n",
      "乗算結果: 50\n",
      "除算結果: 3.3333333333333335\n"
     ]
    }
   ],
   "source": [
    "# 加算\n",
    "result_addition = 10 + 5\n",
    "\n",
    "# 減算\n",
    "result_subtraction = 10 - 5\n",
    "\n",
    "# 乗算\n",
    "result_multiplication = 10 * 5\n",
    "\n",
    "# 除算\n",
    "result_division = 10 / 3\n",
    "\n",
    "# 結果を表示\n",
    "print(\"加算結果:\", result_addition)\n",
    "print(\"減算結果:\", result_subtraction)\n",
    "print(\"乗算結果:\", result_multiplication)\n",
    "print(\"除算結果:\", result_division)\n"
   ]
  },
  {
   "cell_type": "code",
   "execution_count": 3,
   "metadata": {},
   "outputs": [
    {
     "name": "stdout",
     "output_type": "stream",
     "text": [
      "Division: 3\n",
      "Remainder: 1\n"
     ]
    }
   ],
   "source": [
    "# 除算（商と余り）を求めるコード\n",
    "division = 10 // 3\n",
    "remainder = 10 % 3\n",
    "print(\"Division:\", division)\n",
    "print(\"Remainder:\", remainder)\n"
   ]
  },
  {
   "cell_type": "code",
   "execution_count": 4,
   "metadata": {},
   "outputs": [
    {
     "name": "stdout",
     "output_type": "stream",
     "text": [
      "等しいかどうか: False\n",
      "等しくないかどうか: True\n",
      "大なり: True\n",
      "大なりイコール: True\n",
      "小なり: False\n",
      "小なりイコール: False\n"
     ]
    }
   ],
   "source": [
    "# 等しいかどうかを比較する\n",
    "a = 10\n",
    "b = 5\n",
    "is_equal = a == b\n",
    "print(\"等しいかどうか:\", is_equal)\n",
    "\n",
    "# 等しくないかどうかを比較する\n",
    "is_not_equal = a != b\n",
    "print(\"等しくないかどうか:\", is_not_equal)\n",
    "\n",
    "# 大なりを比較する\n",
    "is_greater = a > b\n",
    "print(\"大なり:\", is_greater)\n",
    "\n",
    "# 大なりイコールを比較する\n",
    "is_greater_equal = a >= b\n",
    "print(\"大なりイコール:\", is_greater_equal)\n",
    "\n",
    "# 小なりを比較する\n",
    "is_less = a < b\n",
    "print(\"小なり:\", is_less)\n",
    "\n",
    "# 小なりイコールを比較する\n",
    "is_less_equal = a <= b\n",
    "print(\"小なりイコール:\", is_less_equal)\n"
   ]
  },
  {
   "cell_type": "code",
   "execution_count": 18,
   "metadata": {},
   "outputs": [
    {
     "name": "stdout",
     "output_type": "stream",
     "text": [
      "論理結果:  True\n",
      "論理結果:  True\n"
     ]
    }
   ],
   "source": [
    "x = True\n",
    "print(\"論理結果: \", x == True)\n",
    "print(\"論理結果: \", x == 1)\n"
   ]
  },
  {
   "cell_type": "code",
   "execution_count": 7,
   "metadata": {},
   "outputs": [
    {
     "name": "stdout",
     "output_type": "stream",
     "text": [
      "is_equal: -1\n",
      "is_greater: 0\n",
      "result: 20\n",
      "result: 10\n"
     ]
    }
   ],
   "source": [
    "# 初期値\n",
    "is_equal = 0\n",
    "is_greater = -1\n",
    "\n",
    "# ビット演算子を使用して変数を操作する\n",
    "# ビット反転演算子\n",
    "is_equal = ~is_equal\n",
    "is_greater = ~is_greater\n",
    "\n",
    "print(\"is_equal:\", is_equal)\n",
    "print(\"is_greater:\", is_greater)\n",
    "\n",
    "# 左シフト演算子\n",
    "result = 10 \n",
    "result = result << 1\n",
    "print(\"result:\", result)\n",
    "\n",
    "# 右シフト演算子\n",
    "result = result >> 1\n",
    "print(\"result:\", result)\n"
   ]
  },
  {
   "cell_type": "code",
   "execution_count": 6,
   "metadata": {},
   "outputs": [
    {
     "name": "stdout",
     "output_type": "stream",
     "text": [
      "is_equal: 0\n",
      "is_greater: 1\n",
      "result: 20\n",
      "result: 10\n",
      "result: 15\n",
      "result: 5\n"
     ]
    }
   ],
   "source": [
    "# ビット演算子を使用して変数を操作する\n",
    "# 変数の値を反転させる\n",
    "is_equal = ~is_equal\n",
    "is_greater = ~is_greater\n",
    "\n",
    "print(\"is_equal:\", is_equal)\n",
    "print(\"is_greater:\", is_greater)\n",
    "\n",
    "result = 10 \n",
    "# 変数の値を左にシフトする\n",
    "result = result << 1\n",
    "print(\"result:\", result)\n",
    "\n",
    "# 変数の値を右にシフトする\n",
    "result = result >> 1\n",
    "print(\"result:\", result)\n",
    "\n",
    "\n"
   ]
  }
 ],
 "metadata": {
  "kernelspec": {
   "display_name": ".venv",
   "language": "python",
   "name": "python3"
  },
  "language_info": {
   "codemirror_mode": {
    "name": "ipython",
    "version": 3
   },
   "file_extension": ".py",
   "mimetype": "text/x-python",
   "name": "python",
   "nbconvert_exporter": "python",
   "pygments_lexer": "ipython3",
   "version": "3.9.7"
  }
 },
 "nbformat": 4,
 "nbformat_minor": 2
}
