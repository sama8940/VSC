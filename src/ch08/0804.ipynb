{
 "cells": [
  {
   "cell_type": "markdown",
   "metadata": {},
   "source": [
    "基本統計量を計算する\n",
    "- 基本統計量を計算するサンプルコードを書いて。"
   ]
  },
  {
   "cell_type": "code",
   "execution_count": 1,
   "metadata": {},
   "outputs": [
    {
     "name": "stdout",
     "output_type": "stream",
     "text": [
      "count    4.700000e+01\n",
      "mean     2.683960e+06\n",
      "std      2.796582e+06\n",
      "min      5.534070e+05\n",
      "25%      1.068802e+06\n",
      "50%      1.588256e+06\n",
      "75%      2.688894e+06\n",
      "max      1.404759e+07\n",
      "dtype: float64\n"
     ]
    }
   ],
   "source": [
    "import pandas as pd\n",
    "import numpy as np\n",
    "\n",
    "# Specify the file path\n",
    "file_path = 'FEH_00200521_240805152851.csv'\n",
    "\n",
    "# Read the CSV file into a pandas DataFrame\n",
    "df = pd.read_csv(file_path)\n",
    "\n",
    "# Display the DataFrame\n",
    "\n",
    "# 最初の行を読み飛ばす\n",
    "df.head()\n",
    "# 都道府県名のリストを作成\n",
    "total = []\n",
    "for index, row in df.iterrows():\n",
    "    # 下3桁が「000」である場合は都道府県名\n",
    "    if row.iloc[2][-3:] == '000' and row.iloc[2] != '00000':\n",
    "        total.append(int(row.iloc[5].replace(',','').strip()))\n",
    "\n",
    "# Calculate basic statistics\n",
    "statistics = pd.Series(total).describe()\n",
    "print(statistics)\n",
    "\n"
   ]
  },
  {
   "cell_type": "code",
   "execution_count": 4,
   "metadata": {},
   "outputs": [
    {
     "name": "stdout",
     "output_type": "stream",
     "text": [
      "count    4.700000e+01\n",
      "mean     2.683960e+06\n",
      "std      2.796582e+06\n",
      "min      5.534070e+05\n",
      "25%      1.068802e+06\n",
      "50%      1.588256e+06\n",
      "75%      2.688894e+06\n",
      "max      1.404759e+07\n",
      "dtype: float64\n",
      "平均値: 2683959.5531914895\n",
      "中央値: 1588256.0\n",
      "最大値: 14047594.0\n",
      "最小値: 553407.0\n",
      "標準偏差: 2796581.560284377\n",
      "データ数: 47.0\n",
      "四分位数（第1四分位）: 1068801.5\n",
      "四分位数（第3四分位）: 2688894.5\n",
      "四分位範囲: 1620093.0\n",
      "最大値と最小値の差: 13494187.0\n",
      "変動係数: 1.0419611416867176\n",
      "歪度: 2.2657293469162583\n",
      "尖度: 5.495390219505214\n",
      "最頻値: 2683959.5531914895\n"
     ]
    }
   ],
   "source": [
    "import pandas as pd\n",
    "import numpy as np\n",
    "\n",
    "# Specify the file path\n",
    "file_path = 'FEH_00200521_240805152851.csv'\n",
    "\n",
    "# Read the CSV file into a pandas DataFrame\n",
    "df = pd.read_csv(file_path)\n",
    "\n",
    "# Display the DataFrame\n",
    "\n",
    "# 最初の行を読み飛ばす\n",
    "df.head()\n",
    "# 都道府県名のリストを作成\n",
    "total = []\n",
    "for index, row in df.iterrows():\n",
    "    # 下3桁が「000」である場合は都道府県名\n",
    "    if row.iloc[2][-3:] == '000' and row.iloc[2] != '00000':\n",
    "        total.append(int(row.iloc[5].replace(',','').strip()))\n",
    "\n",
    "# Calculate basic statistics\n",
    "statistics = pd.Series(total).describe()\n",
    "print(statistics)\n",
    "\n",
    "# 基本統計量を個別に表示\n",
    "print('平均値:', statistics['mean'])\n",
    "print('中央値:', statistics['50%'])\n",
    "print('最大値:', statistics['max'])\n",
    "print('最小値:', statistics['min'])\n",
    "print('標準偏差:', statistics['std'])\n",
    "print('データ数:', statistics['count'])\n",
    "print('四分位数（第1四分位）:', statistics['25%'])\n",
    "print('四分位数（第3四分位）:', statistics['75%'])\n",
    "print('四分位範囲:', statistics['75%'] - statistics['25%'])\n",
    "print('最大値と最小値の差:', statistics['max'] - statistics['min'])\n",
    "print('変動係数:', statistics['std'] / statistics['mean'])\n",
    "print('歪度:', pd.Series(total).skew())\n",
    "print('尖度:', pd.Series(total).kurt())\n"
   ]
  }
 ],
 "metadata": {
  "kernelspec": {
   "display_name": ".venv",
   "language": "python",
   "name": "python3"
  },
  "language_info": {
   "codemirror_mode": {
    "name": "ipython",
    "version": 3
   },
   "file_extension": ".py",
   "mimetype": "text/x-python",
   "name": "python",
   "nbconvert_exporter": "python",
   "pygments_lexer": "ipython3",
   "version": "3.9.7"
  }
 },
 "nbformat": 4,
 "nbformat_minor": 2
}
