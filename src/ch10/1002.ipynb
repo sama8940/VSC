{
 "cells": [
  {
   "cell_type": "markdown",
   "metadata": {},
   "source": [
    "Copilot でコードを書く\n",
    "Copilot でコードのテストコードを書く\n",
    "実行して動作をチェックする\n",
    "元のコードを修正する\n",
    "\n",
    "というサイクルを考える"
   ]
  },
  {
   "cell_type": "code",
   "execution_count": null,
   "metadata": {},
   "outputs": [],
   "source": [
    "# カンマ区切りの数値から数値を取り出して合計する\n",
    "# 例 \"10,20,30\" -> 60\n",
    "# ただし、数値は3個固定であるとする\n",
    "# 例外処理を考慮する、数値以外が含まれている場合はエラーとする\n",
    "\n",
    "def sum_numbers(s):\n",
    "    try:\n",
    "        a, b, c = map(int, s.split(','))\n",
    "        return a + b + c\n",
    "    except ValueError:\n",
    "        return 'error'\n"
   ]
  },
  {
   "cell_type": "code",
   "execution_count": null,
   "metadata": {},
   "outputs": [],
   "source": [
    "# sum_numbres 関数のテストコード\n",
    "\n",
    "def test_sum_numbers():\n",
    "    assert sum_numbers('10,20,30') == 60\n",
    "    assert sum_numbers('10,20,30,40') == 'error'\n",
    "    assert sum_numbers('10,20,thirty') == 'error'\n",
    "    assert sum_numbers('10,20') == 'error'\n",
    "    assert sum_numbers('10') == 'error'\n",
    "    assert sum_numbers('') == 'error'\n",
    "    "
   ]
  }
 ],
 "metadata": {
  "language_info": {
   "name": "python"
  }
 },
 "nbformat": 4,
 "nbformat_minor": 2
}
