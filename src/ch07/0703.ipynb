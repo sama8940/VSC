{
 "cells": [
  {
   "cell_type": "code",
   "execution_count": 7,
   "metadata": {},
   "outputs": [
    {
     "name": "stdout",
     "output_type": "stream",
     "text": [
      "name = masuda tomoaki\n",
      "age = 55\n",
      "country = Japan\n"
     ]
    }
   ],
   "source": [
    "import requests\n",
    "# Web APIのエンドポイントURL\n",
    "url = 'http://localhost:8080'\n",
    "\n",
    "# GETリクエストを送信\n",
    "response = requests.get(url)\n",
    "\n",
    "# レスポンスのステータスコードを確認\n",
    "if response.status_code == 200:\n",
    "    # レスポンスからデータを抽出\n",
    "    data = response.json()\n",
    "    print('name =', data['name'])\n",
    "    print('age =', data['age'])\n",
    "    print('country =', data['country'])\n",
    "else:\n",
    "    print('エラー: APIからデータを取得できませんでした')"
   ]
  },
  {
   "cell_type": "code",
   "execution_count": 9,
   "metadata": {},
   "outputs": [
    {
     "name": "stdout",
     "output_type": "stream",
     "text": [
      "データの送信に成功しました: {'received': 'Your name is masuda.'}\n"
     ]
    }
   ],
   "source": [
    "import requests\n",
    "# Web APIのエンドポイントURL\n",
    "url = 'http://localhost:8080'\n",
    "\n",
    "# POSTリクエストのデータ\n",
    "post_data = {'name': 'masuda', 'age': 50, 'job': 'engineer'}\n",
    "\n",
    "# POSTリクエストを送信\n",
    "post_response = requests.post(url, json=post_data)\n",
    "\n",
    "# レスポンスのステータスコードを確認\n",
    "if post_response.status_code == 200:\n",
    "    # レスポンスからデータを抽出\n",
    "    post_response_data = post_response.json()\n",
    "    print('データの送信に成功しました:', post_response_data)\n",
    "else:\n",
    "    print('エラー: APIにデータを送信できませんでした')"
   ]
  },
  {
   "cell_type": "code",
   "execution_count": 12,
   "metadata": {},
   "outputs": [
    {
     "name": "stdout",
     "output_type": "stream",
     "text": [
      "データの送信に成功しました: {'received': 'data count is 5.'}\n"
     ]
    }
   ],
   "source": [
    "import requests\n",
    "import json\n",
    "\n",
    "# Web APIのエンドポイントURL\n",
    "url = 'http://localhost:8080'\n",
    "\n",
    "# sample.jsonファイルを読み込む\n",
    "with open('sample.json', 'r') as f:\n",
    "    post_data = json.load(f)\n",
    "\n",
    "# POSTリクエストを送信\n",
    "post_response = requests.post(url, json=post_data)\n",
    "\n",
    "# レスポンスのステータスコードを確認\n",
    "if post_response.status_code == 200:\n",
    "    # レスポンスからデータを抽出\n",
    "    post_response_data = post_response.json()\n",
    "    print('データの送信に成功しました:', post_response_data)\n",
    "else:\n",
    "    print('エラー: APIにデータを送信できませんでした')"
   ]
  }
 ],
 "metadata": {
  "kernelspec": {
   "display_name": ".venv",
   "language": "python",
   "name": "python3"
  },
  "language_info": {
   "codemirror_mode": {
    "name": "ipython",
    "version": 3
   },
   "file_extension": ".py",
   "mimetype": "text/x-python",
   "name": "python",
   "nbconvert_exporter": "python",
   "pygments_lexer": "ipython3",
   "version": "3.9.7"
  }
 },
 "nbformat": 4,
 "nbformat_minor": 2
}
