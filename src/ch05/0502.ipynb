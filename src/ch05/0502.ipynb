{
 "cells": [
  {
   "cell_type": "code",
   "execution_count": 6,
   "metadata": {},
   "outputs": [
    {
     "name": "stdout",
     "output_type": "stream",
     "text": [
      "Header:  ['id', 'name', 'age']\n",
      "['1', 'John', '22']\n",
      "['2', 'Lina', '33']\n",
      "['3', 'Mike', '44']\n",
      "['4', 'Sara', '55']\n",
      "['5', 'Alex', '66']\n"
     ]
    }
   ],
   "source": [
    "import csv\n",
    "\n",
    "file_path = 'sample.csv'\n",
    "# CSVファイルを読み込む\n",
    "with open(file_path, mode='r', encoding='utf-8') as file:\n",
    "    reader = csv.reader(file)\n",
    "    header = next(reader)  # ヘッダーを読み込む\n",
    "    print(\"Header: \", header)\n",
    "    \n",
    "    # データを1行ずつ取得\n",
    "    for row in reader:\n",
    "        print(row)\n"
   ]
  },
  {
   "cell_type": "code",
   "execution_count": null,
   "metadata": {},
   "outputs": [],
   "source": [
    "import csv\n",
    "\n",
    "file_path = 'sample.csv'\n",
    "# CSVファイルを読み込む\n",
    "with open(file_path, mode='r', encoding='utf-8') as file:\n",
    "    reader = csv.reader(file)\n",
    "    header = next(reader)  # ヘッダーを読み込む\n",
    "    print(\"Header: \", header)\n",
    "    \n",
    "    # データをカラムごとに表示\n",
    "    for row in reader:\n",
    "        print(\"id: \", row[0])\n",
    "        print(\"name: \", row[1])\n",
    "        print(\"age: \", row[2])"
   ]
  },
  {
   "cell_type": "code",
   "execution_count": 3,
   "metadata": {},
   "outputs": [
    {
     "name": "stdout",
     "output_type": "stream",
     "text": [
      "   id  name  age\n",
      "0   1  John   22\n",
      "1   2  Lina   33\n",
      "2   3  Mike   44\n",
      "3   4  Sara   55\n",
      "4   5  Alex   66\n"
     ]
    }
   ],
   "source": [
    "import pandas as pd\n",
    "file_path = 'sample.csv'\n",
    "\n",
    "# CSVファイルを読み込む\n",
    "df = pd.read_csv(file_path)\n",
    "print(df)\n",
    "\n"
   ]
  },
  {
   "cell_type": "code",
   "execution_count": 4,
   "metadata": {},
   "outputs": [
    {
     "name": "stdout",
     "output_type": "stream",
     "text": [
      "1 John 22\n",
      "2 Lina 33\n",
      "3 Mike 44\n",
      "4 Sara 55\n",
      "5 Alex 66\n"
     ]
    }
   ],
   "source": [
    "import pandas as pd\n",
    "file_path = 'sample.csv'\n",
    "# CSVファイルを読み込む\n",
    "df = pd.read_csv(file_path)\n",
    "\n",
    "# データを1行ずつ取得\n",
    "for index, row in df.iterrows():\n",
    "   print(row['id'], row['name'], row['age'])"
   ]
  }
 ],
 "metadata": {
  "kernelspec": {
   "display_name": ".venv",
   "language": "python",
   "name": "python3"
  },
  "language_info": {
   "codemirror_mode": {
    "name": "ipython",
    "version": 3
   },
   "file_extension": ".py",
   "mimetype": "text/x-python",
   "name": "python",
   "nbconvert_exporter": "python",
   "pygments_lexer": "ipython3",
   "version": "3.9.7"
  }
 },
 "nbformat": 4,
 "nbformat_minor": 2
}
