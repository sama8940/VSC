{
 "cells": [
  {
   "cell_type": "code",
   "execution_count": 6,
   "metadata": {},
   "outputs": [
    {
     "name": "stdout",
     "output_type": "stream",
     "text": [
      "フィンセント・ヴィレム・ファン・ゴッホ（Vincent Willem van Gogh, 1853年3月30日 - 1890年7月29日）は、\n",
      "19世紀後半のオランダ出身の画家で、ポスト印象派の代表的な人物の一人です。\n",
      "彼の作品は、その生き生きとした色彩、感情的な表現、革新的な筆使いにより、美術史において非常に重要な位置を占めています。\n",
      "ゴッホは生涯で2,100以上の作品を残しましたが、その大部分は彼が亡くなる直前の2年間に制作されました。\n",
      "彼の代表作には、「星月夜」「ひまわり」「アルルの寝室」などがあります。ゴッホは精神的な苦悩に悩まされ、37歳で自らの命を絶ちましたが、\n",
      "その死後、彼の作品は次第に評価を集め、今日では世界中で最も高く評価される画家の一人となっています。\n",
      "彼の画風は後の表現主義や抽象芸術に大きな影響を与え、彼の情熱的で個性的な作風は、多くの人々に感銘を与え続けています。\n",
      "\n"
     ]
    }
   ],
   "source": [
    "# テキストファイルを読み込むサンプルコード\n",
    "\n",
    "# ファイルパス\n",
    "file_path = \"sample.txt\"\n",
    "\n",
    "# ファイルを読み込む\n",
    "with open( file_path, \"r\", encoding=\"utf-8\") as file:\n",
    "   content = file.read()\n",
    "\n",
    "# 読み込んだ内容を表示する\n",
    "print(content)\n"
   ]
  },
  {
   "cell_type": "code",
   "execution_count": 7,
   "metadata": {},
   "outputs": [
    {
     "name": "stdout",
     "output_type": "stream",
     "text": [
      "フィンセント・ヴィレム・ファン・ゴッホ（Vincent Willem van Gogh, 1853年3月30日 - 1890年7月29日）は、\n",
      "19世紀後半のオランダ出身の画家で、ポスト印象派の代表的な人物の一人です。\n",
      "彼の作品は、その生き生きとした色彩、感情的な表現、革新的な筆使いにより、美術史において非常に重要な位置を占めています。\n",
      "ゴッホは生涯で2,100以上の作品を残しましたが、その大部分は彼が亡くなる直前の2年間に制作されました。\n",
      "彼の代表作には、「星月夜」「ひまわり」「アルルの寝室」などがあります。ゴッホは精神的な苦悩に悩まされ、37歳で自らの命を絶ちましたが、\n",
      "その死後、彼の作品は次第に評価を集め、今日では世界中で最も高く評価される画家の一人となっています。\n",
      "彼の画風は後の表現主義や抽象芸術に大きな影響を与え、彼の情熱的で個性的な作風は、多くの人々に感銘を与え続けています。\n",
      "\n"
     ]
    }
   ],
   "source": [
    "# テキストファイルを読み込むサンプルコード\n",
    "\n",
    "# ファイルパス\n",
    "file_path = \"sample.txt\"\n",
    "\n",
    "# ファイルを読み込む\n",
    "file = open( file_path, \"r\", encoding=\"utf-8\")\n",
    "content = file.read()\n",
    "file.close()\n",
    "\n",
    "# 読み込んだ内容を表示する\n",
    "print(content)"
   ]
  },
  {
   "cell_type": "code",
   "execution_count": 8,
   "metadata": {},
   "outputs": [
    {
     "ename": "UnicodeDecodeError",
     "evalue": "'cp932' codec can't decode byte 0x83 in position 19: illegal multibyte sequence",
     "output_type": "error",
     "traceback": [
      "\u001b[1;31m---------------------------------------------------------------------------\u001b[0m",
      "\u001b[1;31mUnicodeDecodeError\u001b[0m                        Traceback (most recent call last)",
      "Cell \u001b[1;32mIn[8], line 6\u001b[0m\n\u001b[0;32m      4\u001b[0m \u001b[38;5;66;03m# ファイルを読み込む\u001b[39;00m\n\u001b[0;32m      5\u001b[0m \u001b[38;5;28;01mwith\u001b[39;00m \u001b[38;5;28mopen\u001b[39m( file_path, \u001b[38;5;124m\"\u001b[39m\u001b[38;5;124mr\u001b[39m\u001b[38;5;124m\"\u001b[39m) \u001b[38;5;28;01mas\u001b[39;00m file:\n\u001b[1;32m----> 6\u001b[0m    content \u001b[38;5;241m=\u001b[39m \u001b[43mfile\u001b[49m\u001b[38;5;241;43m.\u001b[39;49m\u001b[43mread\u001b[49m\u001b[43m(\u001b[49m\u001b[43m)\u001b[49m\n\u001b[0;32m      8\u001b[0m \u001b[38;5;66;03m# 読み込んだ内容を表示する\u001b[39;00m\n\u001b[0;32m      9\u001b[0m \u001b[38;5;28mprint\u001b[39m(content)\n",
      "\u001b[1;31mUnicodeDecodeError\u001b[0m: 'cp932' codec can't decode byte 0x83 in position 19: illegal multibyte sequence"
     ]
    }
   ],
   "source": [
    "# ファイルパス\n",
    "file_path = \"sample.txt\"\n",
    "\n",
    "# ファイルを読み込む\n",
    "with open( file_path, \"r\") as file:\n",
    "   content = file.read()\n",
    "\n",
    "# 読み込んだ内容を表示する\n",
    "print(content)"
   ]
  },
  {
   "cell_type": "code",
   "execution_count": 15,
   "metadata": {},
   "outputs": [
    {
     "name": "stdout",
     "output_type": "stream",
     "text": [
      "Vincent Willem van Gogh (March 30, 1853 - July 29, 1890) was a Dutch painter from \n",
      "the late 19th century and one of the leading figures of Post-Impressionism. \n",
      "His work holds a significant place in art history due to its vibrant colors, \n",
      "emotional expression, and innovative brushwork. Van Gogh produced over 2,100 artworks \n",
      "in his lifetime, with the majority of them created in the two years leading up to his death. \n",
      "His most famous works include Starry Night, Sunflowers, and The Bedroom in Arles. \n",
      "Though he struggled with mental anguish and ended his life at the age of 37, \n",
      "his work gradually gained recognition after his death. Today, Van Gogh is regarded \n",
      "as one of the most highly esteemed painters in the world. His style had a profound influence \n",
      "on later movements such as Expressionism and Abstract Art, and his passionate and distinctive \n",
      "approach continues to inspire many.\n",
      "\n"
     ]
    }
   ],
   "source": [
    "# ファイルパス\n",
    "file_path = \"sample_en.txt\"\n",
    "\n",
    "# ファイルを読み込む\n",
    "with open( file_path, \"r\") as file:\n",
    "   content = file.read()\n",
    "\n",
    "# 読み込んだ内容を表示する\n",
    "print(content)"
   ]
  },
  {
   "cell_type": "code",
   "execution_count": 2,
   "metadata": {},
   "outputs": [
    {
     "name": "stdout",
     "output_type": "stream",
     "text": [
      "วินเซนต์ วิลเลม แวน โก๊ะ (30 มีนาคม 1853 - 29 กรกฎาคม 1890) เป็นจิตรกรชาวดัตช์จาก \n",
      "ปลายศตวรรษที่ 19 และเป็นหนึ่งในบุคคลสำคัญของยุคหลังอิมเพรสชันนิสม์ \n",
      "ผลงานของเขามีความสำคัญในประวัติศาสตร์ศิลปะเนื่องจากสีสันที่สดใส \n",
      "การแสดงออกทางอารมณ์ และการใช้แปรงที่เป็นนวัตกรรมใหม่ แวน โก๊ะ สร้างผลงานศิลปะกว่า 2,100 ชิ้น \n",
      "ในช่วงชีวิตของเขา โดยส่วนใหญ่สร้างขึ้นในสองปีสุดท้ายก่อนที่เขาจะเสียชีวิต \n",
      "ผลงานที่มีชื่อเสียงที่สุดของเขา ได้แก่ Starry Night, Sunflowers และ The Bedroom in Arles \n",
      "แม้ว่าเขาจะต่อสู้กับความทุกข์ทรมานทางจิตใจและจบชีวิตของเขาในวัย 37 ปี \n",
      "ผลงานของเขาค่อยๆ ได้รับการยอมรับหลังจากที่เขาเสียชีวิต ปัจจุบัน แวน โก๊ะ \n",
      "ถือเป็นหนึ่งในจิตรกรที่ได้รับการยกย่องมากที่สุดในโลก สไตล์ของเขามีอิทธิพลอย่างลึกซึ้ง \n",
      "ต่อขบวนการศิลปะในภายหลัง เช่น เอ็กซ์เพรสชันนิสม์ และศิลปะนามธรรม และวิธีการที่หลงใหลและโดดเด่นของเขา \n",
      "ยังคงสร้างแรงบันดาลใจให้กับหลายๆ คน\n",
      "\n"
     ]
    }
   ],
   "source": [
    "# ファイルパス\n",
    "file_path = \"sample_thai.txt\"\n",
    "\n",
    "# ファイルを読み込む\n",
    "with open( file_path, \"r\", encoding=\"utf-8\") as file:\n",
    "   content = file.read()\n",
    "\n",
    "# 読み込んだ内容を表示する\n",
    "print(content)"
   ]
  }
 ],
 "metadata": {
  "kernelspec": {
   "display_name": ".venv",
   "language": "python",
   "name": "python3"
  },
  "language_info": {
   "codemirror_mode": {
    "name": "ipython",
    "version": 3
   },
   "file_extension": ".py",
   "mimetype": "text/x-python",
   "name": "python",
   "nbconvert_exporter": "python",
   "pygments_lexer": "ipython3",
   "version": "3.9.7"
  }
 },
 "nbformat": 4,
 "nbformat_minor": 2
}
